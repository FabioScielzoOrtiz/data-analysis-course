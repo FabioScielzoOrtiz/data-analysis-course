{
 "cells": [
  {
   "cell_type": "markdown",
   "metadata": {},
   "source": [
    "# **Data processing**"
   ]
  },
  {
   "cell_type": "markdown",
   "metadata": {},
   "source": [
    "## **Requirements**"
   ]
  },
  {
   "cell_type": "code",
   "execution_count": 3,
   "metadata": {},
   "outputs": [],
   "source": [
    "import polars as pl\n",
    "pl.Config(fmt_str_lengths=50)\n",
    "pl.Config(tbl_rows=30)\n",
    "import sys\n",
    "import json\n",
    "from unidecode import unidecode\n",
    "import difflib\n",
    "import pickle"
   ]
  },
  {
   "cell_type": "code",
   "execution_count": 4,
   "metadata": {},
   "outputs": [],
   "source": [
    "sys.path.insert(0, r'C:\\Users\\fscielzo\\Documents\\Packages\\BigEDA_Package_Private')\n",
    "from BigEDA.preprocessing import dtypes_df, change_type, prop_cols_nulls\n",
    "from BigEDA.descriptive import summary, outliers_table, freq_table, cross_quant_cat_summary, contingency_table_2D\n",
    "from BigEDA.plots import histogram_matrix, boxplot_matrix, ecdfplot_matrix, barplot_matrix, boxplot_2D_matrix"
   ]
  },
  {
   "cell_type": "code",
   "execution_count": 5,
   "metadata": {},
   "outputs": [],
   "source": [
    "def find_most_similar_string(target, candidates):\n",
    "    # Get a list of matches with their similarity ratio\n",
    "    matches = difflib.get_close_matches(target, candidates, n=1, cutoff=0.0)\n",
    "    # Return the most similar string\n",
    "    return matches[0] if matches else None"
   ]
  },
  {
   "cell_type": "code",
   "execution_count": 6,
   "metadata": {},
   "outputs": [],
   "source": [
    "def has_dot(x):\n",
    "    return x.find('.') != -1\n",
    "\n",
    "def has_comma(x):\n",
    "    return x.find(',') != -1"
   ]
  },
  {
   "cell_type": "code",
   "execution_count": 7,
   "metadata": {},
   "outputs": [],
   "source": [
    "def reformat_str_number(x):\n",
    "\n",
    "    # This functions is suppose to implement the following transformations:\n",
    "    # '10554' --> '10554'\n",
    "    # '10.554' --> '10554' (to be cast into integer or float)\n",
    "    # '10.554.00' --> '10554' (to be cast into integer or float) \n",
    "    # '10,554' --> '10.554' (to be cast into float)\n",
    "    # '10.554,75' --> '10554.75' (to be cast into float) \n",
    "\n",
    "    if has_comma(x):\n",
    "        if not has_dot(x):\n",
    "            return x.replace(',', '.')\n",
    "        if has_dot(x):\n",
    "            return ''.join(x.split(',')[0].split('.')) +'.'+ x.split(',')[1]\n",
    "    elif has_dot(x) :\n",
    "        if len(x.split('.')) > 2:\n",
    "            return ''.join(x.split('.')[:2])\n",
    "        else:\n",
    "            return ''.join(x.split('.'))\n",
    "    else: # number without ',' and '.'\n",
    "        return  x"
   ]
  },
  {
   "cell_type": "markdown",
   "metadata": {},
   "source": [
    "## **Conceptual description of the data**"
   ]
  },
  {
   "cell_type": "markdown",
   "metadata": {},
   "source": [
    "Nombre del conjunto de datos: Accidentes de Tráfico de la Ciudad de Madrid \n",
    "\n",
    "Descripción: Accidentes de tráfico en la Ciudad de Madrid registrados por Policía Municipal \n",
    "con víctimas y/o daños al patrimonio. \n",
    "\n",
    "Unidad responsable: Dirección General de la Policía Municipal \n",
    " \n",
    "Descripción de estructura del fichero de la aplicación SIGIT \n",
    "\n",
    "IMPORTANTE: \n",
    "\n",
    "• **El fichero incluye un registro por persona implicada en el accidente (conductores, \n",
    "viajeros, peatones, testigos, etc.)**\n",
    "\n",
    "• Los ficheros de 2010 a 2018 solo registran los accidentes con heridos o con daños al \n",
    "patrimonio municipal. \n",
    "\n",
    "• Los datos publicados son provisionales hasta seis meses después del año vencido. \n",
    "\n",
    "• Actualmente no se dispone de datos por barrio."
   ]
  },
  {
   "cell_type": "markdown",
   "metadata": {},
   "source": [
    "| Variable Name | Description | Type |\n",
    "|----------|----------|----------|\n",
    "| `num_expediente`    |  AAASNNNNNN, donde: • AAAA es el año del accidente. • S cuando se trata de un expediente con accidente.   |   String  |\n",
    "| `fecha`    | Fecha en formato dd/mm/aaaa | Quantitative  |\n",
    "| `hora`   |  La hora se establece en rangos horarios de 1 hora     |  Quantitative  |\n",
    "| `localizacion`   | calle 1 ‐ calle 2 (cruce) o una calle   |  Quantitative  |\n",
    "| `numero`   |   Número de la calle, cuando tiene sentido   |  Quantitative  |\n",
    "| `cod_distrito`   |  Código del distrito    |  Multiclass  |\n",
    "| `distrito`   |  Nombre del Distrito    |  Binary  |\n",
    "| `tipo_accidente`   |  Colisión doble: Accidente de tráfico ocurrido entre dos vehículos en movimiento, (colisión frontal, fronto lateral, lateral) Colisión múltiple: Accidente de tráfico ocurrido entre más de dos vehículos en movimiento. Alcance: Accidente que se produce cuando un vehículo circulando o detenido por las circunstancias del tráfico es golpeado en su parte posterior por otro ehículo. Choque contra obstáculo o elemento de la vía: Accidente ocurrido entre un vehículo en movimiento con conductor y un objeto inmóvil que ocupa la vía o zona apartada de la misma, ya sea vehículo estacionado, árbol, farola, etc.  Atropello a persona: Accidente ocurrido ente un vehículo y un peatón que ocupa la calzada o que transita por aceras, refugios, paseos o zonas de la vía pública no destinada a la circulación de vehículos. Vuelco: Accidente sufrido por un vehículo con más de dos ruedas y que por alguna circunstancia sus neumáticos pierden el contacto con la calzada quedando apoyado sobre un costado o sobre el techo. Caída: Se agrupan todas las caídas relacionadas con el desarrollo y las circunstancias del tráfico, (motocicleta, ciclomotor, bicicleta, viajero bus, etc.,) Otras causas: Recoge los accidentes por atropello a animal, despeñamiento, salida de la vía, y otros |  Binary  |\n",
    "| `estado_meteorologico`   |  Descripción climatología     |  Binary  |\n",
    "| `tipo_vehiculo`   | tipo vehículo implicado   |  Multiclass  |\n",
    "| `tipo_persona`   |  tipo persona implicada   |  Binary  |\n",
    "| `rango_edad`   |  ramo edad persona afectada  |  Multiclass  |\n",
    "| `sexo`   |  puede ser : hombre Mujer o no asignado   |  Multiclass  |\n",
    "| `cod_lesividad`   |  01  Atención en urgencias sin posterior ingreso. - LEVE 02  Ingreso inferior o igual a 24 horas - LEVE 03 Ingreso superior a 24 horas. - GRAVE 04  Fallecido 24 horas - FALLECIDO 05  Asistencia sanitaria ambulatoria con posterioridad - LEVE 06  Asistencia sanitaria inmediata en centro de salud o mutua - LEVE 07  Asistencia sanitaria sólo en el lugar del accidente - LEVE 14  Sin asistencia sanitaria 77  Se desconoce En blanco Sin asistencia sanitaria  |  Multiclass  |\n",
    "| `lesividad`   |  Descripción lesividad    |  Quantitative  |\n",
    "| `coordenada_x_utm`   |  ubicación coordenada x     |  Quantitative  |\n",
    "| `Coordenada_y_utm`   |  ubicación coordenada y    |  Quantitative  |\n",
    "| `positiva_alcohol`   |  Puede ser N o S   |  Quantitative  |\n",
    "| `positiva_droga`   |  Puede ser NULL o 1    |  Quantitative  |"
   ]
  },
  {
   "cell_type": "markdown",
   "metadata": {},
   "source": [
    "## **Reading the data**"
   ]
  },
  {
   "cell_type": "code",
   "execution_count": 8,
   "metadata": {},
   "outputs": [],
   "source": [
    "years = list(range(2019, 2025))\n",
    "madrid_traffic_acc_df = {}\n",
    "for year in years:\n",
    "    madrid_traffic_acc_df[year] = pl.read_csv(fr'C:\\Users\\fscielzo\\Documents\\DataScience-GitHub\\EDA\\Madrid-Traffic-Accidents\\data\\{year}_Accidentalidad.csv', separator=';', ignore_errors=True)"
   ]
  },
  {
   "cell_type": "code",
   "execution_count": 9,
   "metadata": {},
   "outputs": [
    {
     "data": {
      "text/html": [
       "<div><style>\n",
       ".dataframe > thead > tr,\n",
       ".dataframe > tbody > tr {\n",
       "  text-align: right;\n",
       "  white-space: pre-wrap;\n",
       "}\n",
       "</style>\n",
       "<small>shape: (4, 19)</small><table border=\"1\" class=\"dataframe\"><thead><tr><th>num_expediente</th><th>fecha</th><th>hora</th><th>localizacion</th><th>numero</th><th>cod_distrito</th><th>distrito</th><th>tipo_accidente</th><th>estado_meteorológico</th><th>tipo_vehiculo</th><th>tipo_persona</th><th>rango_edad</th><th>sexo</th><th>cod_lesividad</th><th>lesividad</th><th>coordenada_x_utm</th><th>coordenada_y_utm</th><th>positiva_alcohol</th><th>positiva_droga</th></tr><tr><td>str</td><td>str</td><td>str</td><td>str</td><td>str</td><td>i64</td><td>str</td><td>str</td><td>str</td><td>str</td><td>str</td><td>str</td><td>str</td><td>str</td><td>str</td><td>str</td><td>str</td><td>str</td><td>str</td></tr></thead><tbody><tr><td>&quot;2018S017842&quot;</td><td>&quot;04/02/2019&quot;</td><td>&quot;9:10:00&quot;</td><td>&quot;CALL. ALBERTO AGUILERA, 1&quot;</td><td>&quot;1&quot;</td><td>1</td><td>&quot;CENTRO&quot;</td><td>&quot;Colisión lateral&quot;</td><td>&quot;Despejado&quot;</td><td>&quot;Motocicleta &gt; 125cc&quot;</td><td>&quot;Conductor&quot;</td><td>&quot;De 45 a 49 años&quot;</td><td>&quot;Hombre&quot;</td><td>&quot;7&quot;</td><td>&quot;Asistencia sanitaria sólo en el lugar del acciden…</td><td>&quot;440068,049&quot;</td><td>&quot;4475679,17&quot;</td><td>&quot;N&quot;</td><td>&quot;NULL&quot;</td></tr><tr><td>&quot;2018S017842&quot;</td><td>&quot;04/02/2019&quot;</td><td>&quot;9:10:00&quot;</td><td>&quot;CALL. ALBERTO AGUILERA, 1&quot;</td><td>&quot;1&quot;</td><td>1</td><td>&quot;CENTRO&quot;</td><td>&quot;Colisión lateral&quot;</td><td>&quot;Despejado&quot;</td><td>&quot;Turismo&quot;</td><td>&quot;Conductor&quot;</td><td>&quot;De 30 a 34 años&quot;</td><td>&quot;Mujer&quot;</td><td>&quot;7&quot;</td><td>&quot;Asistencia sanitaria sólo en el lugar del acciden…</td><td>&quot;440068,049&quot;</td><td>&quot;4475679,17&quot;</td><td>&quot;N&quot;</td><td>&quot;NULL&quot;</td></tr><tr><td>&quot;2019S000001&quot;</td><td>&quot;01/01/2019&quot;</td><td>&quot;3:45:00&quot;</td><td>&quot;PASEO. SANTA MARIA DE LA CABEZA / PLAZA. ELIPTICA…</td><td>&quot;168&quot;</td><td>11</td><td>&quot;CARABANCHEL&quot;</td><td>&quot;Alcance&quot;</td><td>&quot;NULL&quot;</td><td>&quot;Furgoneta&quot;</td><td>&quot;Conductor&quot;</td><td>&quot;De 40 a 44 años&quot;</td><td>&quot;Hombre&quot;</td><td>&quot;NULL&quot;</td><td>&quot;NULL&quot;</td><td>&quot;439139,603&quot;</td><td>&quot;4470836,854&quot;</td><td>&quot;S&quot;</td><td>&quot;NULL&quot;</td></tr><tr><td>&quot;2019S000001&quot;</td><td>&quot;01/01/2019&quot;</td><td>&quot;3:45:00&quot;</td><td>&quot;PASEO. SANTA MARIA DE LA CABEZA / PLAZA. ELIPTICA…</td><td>&quot;168&quot;</td><td>11</td><td>&quot;CARABANCHEL&quot;</td><td>&quot;Alcance&quot;</td><td>&quot;NULL&quot;</td><td>&quot;Turismo&quot;</td><td>&quot;Conductor&quot;</td><td>&quot;De 40 a 44 años&quot;</td><td>&quot;Mujer&quot;</td><td>&quot;NULL&quot;</td><td>&quot;NULL&quot;</td><td>&quot;439139,603&quot;</td><td>&quot;4470836,854&quot;</td><td>&quot;N&quot;</td><td>&quot;NULL&quot;</td></tr></tbody></table></div>"
      ],
      "text/plain": [
       "shape: (4, 19)\n",
       "┌────────────┬───────────┬─────────┬───────────┬───┬───────────┬───────────┬───────────┬───────────┐\n",
       "│ num_expedi ┆ fecha     ┆ hora    ┆ localizac ┆ … ┆ coordenad ┆ coordenad ┆ positiva_ ┆ positiva_ │\n",
       "│ ente       ┆ ---       ┆ ---     ┆ ion       ┆   ┆ a_x_utm   ┆ a_y_utm   ┆ alcohol   ┆ droga     │\n",
       "│ ---        ┆ str       ┆ str     ┆ ---       ┆   ┆ ---       ┆ ---       ┆ ---       ┆ ---       │\n",
       "│ str        ┆           ┆         ┆ str       ┆   ┆ str       ┆ str       ┆ str       ┆ str       │\n",
       "╞════════════╪═══════════╪═════════╪═══════════╪═══╪═══════════╪═══════════╪═══════════╪═══════════╡\n",
       "│ 2018S01784 ┆ 04/02/201 ┆ 9:10:00 ┆ CALL.     ┆ … ┆ 440068,04 ┆ 4475679,1 ┆ N         ┆ NULL      │\n",
       "│ 2          ┆ 9         ┆         ┆ ALBERTO   ┆   ┆ 9         ┆ 7         ┆           ┆           │\n",
       "│            ┆           ┆         ┆ AGUILERA, ┆   ┆           ┆           ┆           ┆           │\n",
       "│            ┆           ┆         ┆ 1         ┆   ┆           ┆           ┆           ┆           │\n",
       "│ 2018S01784 ┆ 04/02/201 ┆ 9:10:00 ┆ CALL.     ┆ … ┆ 440068,04 ┆ 4475679,1 ┆ N         ┆ NULL      │\n",
       "│ 2          ┆ 9         ┆         ┆ ALBERTO   ┆   ┆ 9         ┆ 7         ┆           ┆           │\n",
       "│            ┆           ┆         ┆ AGUILERA, ┆   ┆           ┆           ┆           ┆           │\n",
       "│            ┆           ┆         ┆ 1         ┆   ┆           ┆           ┆           ┆           │\n",
       "│ 2019S00000 ┆ 01/01/201 ┆ 3:45:00 ┆ PASEO.    ┆ … ┆ 439139,60 ┆ 4470836,8 ┆ S         ┆ NULL      │\n",
       "│ 1          ┆ 9         ┆         ┆ SANTA     ┆   ┆ 3         ┆ 54        ┆           ┆           │\n",
       "│            ┆           ┆         ┆ MARIA DE  ┆   ┆           ┆           ┆           ┆           │\n",
       "│            ┆           ┆         ┆ LA CABEZA ┆   ┆           ┆           ┆           ┆           │\n",
       "│            ┆           ┆         ┆ / PLAZA.  ┆   ┆           ┆           ┆           ┆           │\n",
       "│            ┆           ┆         ┆ ELIPTICA  ┆   ┆           ┆           ┆           ┆           │\n",
       "│ 2019S00000 ┆ 01/01/201 ┆ 3:45:00 ┆ PASEO.    ┆ … ┆ 439139,60 ┆ 4470836,8 ┆ N         ┆ NULL      │\n",
       "│ 1          ┆ 9         ┆         ┆ SANTA     ┆   ┆ 3         ┆ 54        ┆           ┆           │\n",
       "│            ┆           ┆         ┆ MARIA DE  ┆   ┆           ┆           ┆           ┆           │\n",
       "│            ┆           ┆         ┆ LA CABEZA ┆   ┆           ┆           ┆           ┆           │\n",
       "│            ┆           ┆         ┆ / PLAZA.  ┆   ┆           ┆           ┆           ┆           │\n",
       "│            ┆           ┆         ┆ ELIPTICA  ┆   ┆           ┆           ┆           ┆           │\n",
       "└────────────┴───────────┴─────────┴───────────┴───┴───────────┴───────────┴───────────┴───────────┘"
      ]
     },
     "execution_count": 9,
     "metadata": {},
     "output_type": "execute_result"
    }
   ],
   "source": [
    "madrid_traffic_acc_df[2019].head(4)"
   ]
  },
  {
   "cell_type": "code",
   "execution_count": 10,
   "metadata": {},
   "outputs": [
    {
     "data": {
      "text/html": [
       "<div><style>\n",
       ".dataframe > thead > tr,\n",
       ".dataframe > tbody > tr {\n",
       "  text-align: right;\n",
       "  white-space: pre-wrap;\n",
       "}\n",
       "</style>\n",
       "<small>shape: (51_811, 19)</small><table border=\"1\" class=\"dataframe\"><thead><tr><th>num_expediente</th><th>fecha</th><th>hora</th><th>localizacion</th><th>numero</th><th>cod_distrito</th><th>distrito</th><th>tipo_accidente</th><th>estado_meteorológico</th><th>tipo_vehiculo</th><th>tipo_persona</th><th>rango_edad</th><th>sexo</th><th>cod_lesividad</th><th>lesividad</th><th>coordenada_x_utm</th><th>coordenada_y_utm</th><th>positiva_alcohol</th><th>positiva_droga</th></tr><tr><td>str</td><td>str</td><td>str</td><td>str</td><td>str</td><td>i64</td><td>str</td><td>str</td><td>str</td><td>str</td><td>str</td><td>str</td><td>str</td><td>str</td><td>str</td><td>str</td><td>str</td><td>str</td><td>str</td></tr></thead><tbody><tr><td>&quot;2018S017842&quot;</td><td>&quot;04/02/2019&quot;</td><td>&quot;9:10:00&quot;</td><td>&quot;CALL. ALBERTO AGUILERA, 1&quot;</td><td>&quot;1&quot;</td><td>1</td><td>&quot;CENTRO&quot;</td><td>&quot;Colisión lateral&quot;</td><td>&quot;Despejado&quot;</td><td>&quot;Motocicleta &gt; 125cc&quot;</td><td>&quot;Conductor&quot;</td><td>&quot;De 45 a 49 años&quot;</td><td>&quot;Hombre&quot;</td><td>&quot;7&quot;</td><td>&quot;Asistencia sanitaria sólo en el lugar del acciden…</td><td>&quot;440068,049&quot;</td><td>&quot;4475679,17&quot;</td><td>&quot;N&quot;</td><td>&quot;NULL&quot;</td></tr><tr><td>&quot;2018S017842&quot;</td><td>&quot;04/02/2019&quot;</td><td>&quot;9:10:00&quot;</td><td>&quot;CALL. ALBERTO AGUILERA, 1&quot;</td><td>&quot;1&quot;</td><td>1</td><td>&quot;CENTRO&quot;</td><td>&quot;Colisión lateral&quot;</td><td>&quot;Despejado&quot;</td><td>&quot;Turismo&quot;</td><td>&quot;Conductor&quot;</td><td>&quot;De 30 a 34 años&quot;</td><td>&quot;Mujer&quot;</td><td>&quot;7&quot;</td><td>&quot;Asistencia sanitaria sólo en el lugar del acciden…</td><td>&quot;440068,049&quot;</td><td>&quot;4475679,17&quot;</td><td>&quot;N&quot;</td><td>&quot;NULL&quot;</td></tr><tr><td>&quot;2019S000001&quot;</td><td>&quot;01/01/2019&quot;</td><td>&quot;3:45:00&quot;</td><td>&quot;PASEO. SANTA MARIA DE LA CABEZA / PLAZA. ELIPTICA…</td><td>&quot;168&quot;</td><td>11</td><td>&quot;CARABANCHEL&quot;</td><td>&quot;Alcance&quot;</td><td>&quot;NULL&quot;</td><td>&quot;Furgoneta&quot;</td><td>&quot;Conductor&quot;</td><td>&quot;De 40 a 44 años&quot;</td><td>&quot;Hombre&quot;</td><td>&quot;NULL&quot;</td><td>&quot;NULL&quot;</td><td>&quot;439139,603&quot;</td><td>&quot;4470836,854&quot;</td><td>&quot;S&quot;</td><td>&quot;NULL&quot;</td></tr><tr><td>&quot;2019S000001&quot;</td><td>&quot;01/01/2019&quot;</td><td>&quot;3:45:00&quot;</td><td>&quot;PASEO. SANTA MARIA DE LA CABEZA / PLAZA. ELIPTICA…</td><td>&quot;168&quot;</td><td>11</td><td>&quot;CARABANCHEL&quot;</td><td>&quot;Alcance&quot;</td><td>&quot;NULL&quot;</td><td>&quot;Turismo&quot;</td><td>&quot;Conductor&quot;</td><td>&quot;De 40 a 44 años&quot;</td><td>&quot;Mujer&quot;</td><td>&quot;NULL&quot;</td><td>&quot;NULL&quot;</td><td>&quot;439139,603&quot;</td><td>&quot;4470836,854&quot;</td><td>&quot;N&quot;</td><td>&quot;NULL&quot;</td></tr><tr><td>&quot;2019S000001&quot;</td><td>&quot;01/01/2019&quot;</td><td>&quot;3:45:00&quot;</td><td>&quot;PASEO. SANTA MARIA DE LA CABEZA / PLAZA. ELIPTICA…</td><td>&quot;168&quot;</td><td>11</td><td>&quot;CARABANCHEL&quot;</td><td>&quot;Alcance&quot;</td><td>&quot;NULL&quot;</td><td>&quot;Turismo&quot;</td><td>&quot;Conductor&quot;</td><td>&quot;De 45 a 49 años&quot;</td><td>&quot;Mujer&quot;</td><td>&quot;NULL&quot;</td><td>&quot;NULL&quot;</td><td>&quot;439139,603&quot;</td><td>&quot;4470836,854&quot;</td><td>&quot;N&quot;</td><td>&quot;NULL&quot;</td></tr><tr><td>&quot;2019S000001&quot;</td><td>&quot;01/01/2019&quot;</td><td>&quot;3:45:00&quot;</td><td>&quot;PASEO. SANTA MARIA DE LA CABEZA / PLAZA. ELIPTICA…</td><td>&quot;168&quot;</td><td>11</td><td>&quot;CARABANCHEL&quot;</td><td>&quot;Alcance&quot;</td><td>&quot;NULL&quot;</td><td>&quot;Turismo&quot;</td><td>&quot;Pasajero&quot;</td><td>&quot;De 45 a 49 años&quot;</td><td>&quot;Mujer&quot;</td><td>&quot;NULL&quot;</td><td>&quot;NULL&quot;</td><td>&quot;439139,603&quot;</td><td>&quot;4470836,854&quot;</td><td>&quot;N&quot;</td><td>&quot;NULL&quot;</td></tr><tr><td>&quot;2019S000001&quot;</td><td>&quot;01/01/2019&quot;</td><td>&quot;3:45:00&quot;</td><td>&quot;PASEO. SANTA MARIA DE LA CABEZA / PLAZA. ELIPTICA…</td><td>&quot;168&quot;</td><td>11</td><td>&quot;CARABANCHEL&quot;</td><td>&quot;Alcance&quot;</td><td>&quot;NULL&quot;</td><td>&quot;Turismo&quot;</td><td>&quot;Pasajero&quot;</td><td>&quot;De 65 a 69 años&quot;</td><td>&quot;Mujer&quot;</td><td>&quot;NULL&quot;</td><td>&quot;NULL&quot;</td><td>&quot;439139,603&quot;</td><td>&quot;4470836,854&quot;</td><td>&quot;N&quot;</td><td>&quot;NULL&quot;</td></tr><tr><td>&quot;2019S000001&quot;</td><td>&quot;01/01/2019&quot;</td><td>&quot;3:45:00&quot;</td><td>&quot;PASEO. SANTA MARIA DE LA CABEZA / PLAZA. ELIPTICA…</td><td>&quot;168&quot;</td><td>11</td><td>&quot;CARABANCHEL&quot;</td><td>&quot;Alcance&quot;</td><td>&quot;NULL&quot;</td><td>&quot;Turismo&quot;</td><td>&quot;Pasajero&quot;</td><td>&quot;Más de 74 años&quot;</td><td>&quot;Mujer&quot;</td><td>&quot;NULL&quot;</td><td>&quot;NULL&quot;</td><td>&quot;439139,603&quot;</td><td>&quot;4470836,854&quot;</td><td>&quot;N&quot;</td><td>&quot;NULL&quot;</td></tr><tr><td>&quot;2019S000002&quot;</td><td>&quot;01/01/2019&quot;</td><td>&quot;3:50:00&quot;</td><td>&quot;CALL. CUART DE POBLET, 65&quot;</td><td>&quot;65&quot;</td><td>10</td><td>&quot;LATINA&quot;</td><td>&quot;Choque contra obstáculo fijo&quot;</td><td>&quot;Despejado&quot;</td><td>&quot;Furgoneta&quot;</td><td>&quot;Conductor&quot;</td><td>&quot;Desconocido&quot;</td><td>&quot;Desconocido&quot;</td><td>&quot;NULL&quot;</td><td>&quot;NULL&quot;</td><td>&quot;436473,789&quot;</td><td>&quot;4472030,489&quot;</td><td>&quot;N&quot;</td><td>&quot;NULL&quot;</td></tr><tr><td>&quot;2019S000002&quot;</td><td>&quot;01/01/2019&quot;</td><td>&quot;3:50:00&quot;</td><td>&quot;CALL. CUART DE POBLET, 65&quot;</td><td>&quot;65&quot;</td><td>10</td><td>&quot;LATINA&quot;</td><td>&quot;Choque contra obstáculo fijo&quot;</td><td>&quot;Despejado&quot;</td><td>&quot;Turismo&quot;</td><td>&quot;Conductor&quot;</td><td>&quot;De 21 a 24 años&quot;</td><td>&quot;Hombre&quot;</td><td>&quot;2&quot;</td><td>&quot;Ingreso inferior o igual a 24 horas&quot;</td><td>&quot;436473,789&quot;</td><td>&quot;4472030,489&quot;</td><td>&quot;N&quot;</td><td>&quot;NULL&quot;</td></tr><tr><td>&quot;2019S000002&quot;</td><td>&quot;01/01/2019&quot;</td><td>&quot;3:50:00&quot;</td><td>&quot;CALL. CUART DE POBLET, 65&quot;</td><td>&quot;65&quot;</td><td>10</td><td>&quot;LATINA&quot;</td><td>&quot;Choque contra obstáculo fijo&quot;</td><td>&quot;Despejado&quot;</td><td>&quot;Turismo&quot;</td><td>&quot;Conductor&quot;</td><td>&quot;Desconocido&quot;</td><td>&quot;Desconocido&quot;</td><td>&quot;NULL&quot;</td><td>&quot;NULL&quot;</td><td>&quot;436473,789&quot;</td><td>&quot;4472030,489&quot;</td><td>&quot;N&quot;</td><td>&quot;NULL&quot;</td></tr><tr><td>&quot;2019S000002&quot;</td><td>&quot;01/01/2019&quot;</td><td>&quot;3:50:00&quot;</td><td>&quot;CALL. CUART DE POBLET, 65&quot;</td><td>&quot;65&quot;</td><td>10</td><td>&quot;LATINA&quot;</td><td>&quot;Choque contra obstáculo fijo&quot;</td><td>&quot;Despejado&quot;</td><td>&quot;Turismo&quot;</td><td>&quot;Conductor&quot;</td><td>&quot;Desconocido&quot;</td><td>&quot;Desconocido&quot;</td><td>&quot;NULL&quot;</td><td>&quot;NULL&quot;</td><td>&quot;436473,789&quot;</td><td>&quot;4472030,489&quot;</td><td>&quot;N&quot;</td><td>&quot;NULL&quot;</td></tr><tr><td>&quot;2019S000003&quot;</td><td>&quot;01/01/2019&quot;</td><td>&quot;4:00:00&quot;</td><td>&quot;CALL. MARCELO USERA, 30&quot;</td><td>&quot;30&quot;</td><td>12</td><td>&quot;USERA&quot;</td><td>&quot;Colisión fronto-lateral&quot;</td><td>&quot;Despejado&quot;</td><td>&quot;Turismo&quot;</td><td>&quot;Conductor&quot;</td><td>&quot;De 30 a 34 años&quot;</td><td>&quot;Hombre&quot;</td><td>&quot;NULL&quot;</td><td>&quot;NULL&quot;</td><td>&quot;440462,407&quot;</td><td>&quot;4470926,552&quot;</td><td>&quot;S&quot;</td><td>&quot;NULL&quot;</td></tr><tr><td>&quot;2019S000003&quot;</td><td>&quot;01/01/2019&quot;</td><td>&quot;4:00:00&quot;</td><td>&quot;CALL. MARCELO USERA, 30&quot;</td><td>&quot;30&quot;</td><td>12</td><td>&quot;USERA&quot;</td><td>&quot;Colisión fronto-lateral&quot;</td><td>&quot;Despejado&quot;</td><td>&quot;Turismo&quot;</td><td>&quot;Conductor&quot;</td><td>&quot;De 35 a 39 años&quot;</td><td>&quot;Hombre&quot;</td><td>&quot;NULL&quot;</td><td>&quot;NULL&quot;</td><td>&quot;440462,407&quot;</td><td>&quot;4470926,552&quot;</td><td>&quot;N&quot;</td><td>&quot;NULL&quot;</td></tr><tr><td>&quot;2019S000003&quot;</td><td>&quot;01/01/2019&quot;</td><td>&quot;4:00:00&quot;</td><td>&quot;CALL. MARCELO USERA, 30&quot;</td><td>&quot;30&quot;</td><td>12</td><td>&quot;USERA&quot;</td><td>&quot;Colisión fronto-lateral&quot;</td><td>&quot;Despejado&quot;</td><td>&quot;Turismo&quot;</td><td>&quot;Pasajero&quot;</td><td>&quot;De 30 a 34 años&quot;</td><td>&quot;Mujer&quot;</td><td>&quot;NULL&quot;</td><td>&quot;NULL&quot;</td><td>&quot;440462,407&quot;</td><td>&quot;4470926,552&quot;</td><td>&quot;N&quot;</td><td>&quot;NULL&quot;</td></tr><tr><td>&hellip;</td><td>&hellip;</td><td>&hellip;</td><td>&hellip;</td><td>&hellip;</td><td>&hellip;</td><td>&hellip;</td><td>&hellip;</td><td>&hellip;</td><td>&hellip;</td><td>&hellip;</td><td>&hellip;</td><td>&hellip;</td><td>&hellip;</td><td>&hellip;</td><td>&hellip;</td><td>&hellip;</td><td>&hellip;</td><td>&hellip;</td></tr><tr><td>&quot;2019S039975&quot;</td><td>&quot;30/12/2019&quot;</td><td>&quot;15:15:00&quot;</td><td>&quot;CALL. VIA CARPETANA / CALL. TARAZONA&quot;</td><td>&quot;218&quot;</td><td>10</td><td>&quot;LATINA&quot;</td><td>&quot;Colisión fronto-lateral&quot;</td><td>&quot;Se desconoce&quot;</td><td>&quot;Turismo&quot;</td><td>&quot;Conductor&quot;</td><td>&quot;De 55 a 59 años&quot;</td><td>&quot;Hombre&quot;</td><td>&quot;NULL&quot;</td><td>&quot;NULL&quot;</td><td>&quot;437336,694&quot;</td><td>&quot;4471892,67&quot;</td><td>&quot;N&quot;</td><td>&quot;NULL&quot;</td></tr><tr><td>&quot;2019S039975&quot;</td><td>&quot;30/12/2019&quot;</td><td>&quot;15:15:00&quot;</td><td>&quot;CALL. VIA CARPETANA / CALL. TARAZONA&quot;</td><td>&quot;218&quot;</td><td>10</td><td>&quot;LATINA&quot;</td><td>&quot;Colisión fronto-lateral&quot;</td><td>&quot;Se desconoce&quot;</td><td>&quot;Turismo&quot;</td><td>&quot;Conductor&quot;</td><td>&quot;Desconocido&quot;</td><td>&quot;Desconocido&quot;</td><td>&quot;NULL&quot;</td><td>&quot;NULL&quot;</td><td>&quot;437336,694&quot;</td><td>&quot;4471892,67&quot;</td><td>&quot;N&quot;</td><td>&quot;NULL&quot;</td></tr><tr><td>&quot;2019S039975&quot;</td><td>&quot;30/12/2019&quot;</td><td>&quot;15:15:00&quot;</td><td>&quot;CALL. VIA CARPETANA / CALL. TARAZONA&quot;</td><td>&quot;218&quot;</td><td>10</td><td>&quot;LATINA&quot;</td><td>&quot;Colisión fronto-lateral&quot;</td><td>&quot;Se desconoce&quot;</td><td>&quot;Turismo&quot;</td><td>&quot;Pasajero&quot;</td><td>&quot;De 60 a 64 años&quot;</td><td>&quot;Mujer&quot;</td><td>&quot;NULL&quot;</td><td>&quot;NULL&quot;</td><td>&quot;437336,694&quot;</td><td>&quot;4471892,67&quot;</td><td>&quot;N&quot;</td><td>&quot;NULL&quot;</td></tr><tr><td>&quot;2019S039977&quot;</td><td>&quot;21/12/2019&quot;</td><td>&quot;13:40:00&quot;</td><td>&quot;AVDA. ORCASUR, 2&quot;</td><td>&quot;2&quot;</td><td>12</td><td>&quot;USERA&quot;</td><td>&quot;Atropello a persona&quot;</td><td>&quot;Lluvia débil&quot;</td><td>&quot;Turismo&quot;</td><td>&quot;Conductor&quot;</td><td>&quot;De 35 a 39 años&quot;</td><td>&quot;Hombre&quot;</td><td>&quot;14&quot;</td><td>&quot;Sin asistencia sanitaria&quot;</td><td>&quot;440511,32&quot;</td><td>&quot;4469125,135&quot;</td><td>&quot;N&quot;</td><td>&quot;NULL&quot;</td></tr><tr><td>&quot;2019S039977&quot;</td><td>&quot;21/12/2019&quot;</td><td>&quot;13:40:00&quot;</td><td>&quot;AVDA. ORCASUR, 2&quot;</td><td>&quot;2&quot;</td><td>12</td><td>&quot;USERA&quot;</td><td>&quot;Atropello a persona&quot;</td><td>&quot;Lluvia débil&quot;</td><td>&quot;Turismo&quot;</td><td>&quot;Peatón&quot;</td><td>&quot;De 6 a 9 años&quot;</td><td>&quot;Mujer&quot;</td><td>&quot;7&quot;</td><td>&quot;Asistencia sanitaria sólo en el lugar del acciden…</td><td>&quot;440511,32&quot;</td><td>&quot;4469125,135&quot;</td><td>&quot;N&quot;</td><td>&quot;NULL&quot;</td></tr><tr><td>&quot;2019S039986&quot;</td><td>&quot;17/12/2019&quot;</td><td>&quot;15:36:00&quot;</td><td>&quot;CALL. EMBAJADORES, 470&quot;</td><td>&quot;470&quot;</td><td>13</td><td>&quot;PUENTE DE VALLECAS&quot;</td><td>&quot;Otro&quot;</td><td>&quot;Despejado&quot;</td><td>&quot;Camión rígido&quot;</td><td>&quot;Conductor&quot;</td><td>&quot;De 45 a 49 años&quot;</td><td>&quot;Hombre&quot;</td><td>&quot;NULL&quot;</td><td>&quot;NULL&quot;</td><td>&quot;442426,146&quot;</td><td>&quot;4468956,96&quot;</td><td>&quot;N&quot;</td><td>&quot;NULL&quot;</td></tr><tr><td>&quot;2019S039987&quot;</td><td>&quot;16/11/2019&quot;</td><td>&quot;14:45:00&quot;</td><td>&quot;AVDA. REINA VICTORIA / AVDA. PABLO IGLESIAS&quot;</td><td>&quot;21&quot;</td><td>7</td><td>&quot;CHAMBERÍ&quot;</td><td>&quot;Atropello a persona&quot;</td><td>&quot;Despejado&quot;</td><td>&quot;Motocicleta hasta 125cc&quot;</td><td>&quot;Conductor&quot;</td><td>&quot;De 25 a 29 años&quot;</td><td>&quot;Hombre&quot;</td><td>&quot;7&quot;</td><td>&quot;Asistencia sanitaria sólo en el lugar del acciden…</td><td>&quot;439961,798&quot;</td><td>&quot;4477600,669&quot;</td><td>&quot;N&quot;</td><td>&quot;NULL&quot;</td></tr><tr><td>&quot;2019S039987&quot;</td><td>&quot;16/11/2019&quot;</td><td>&quot;14:45:00&quot;</td><td>&quot;AVDA. REINA VICTORIA / AVDA. PABLO IGLESIAS&quot;</td><td>&quot;21&quot;</td><td>7</td><td>&quot;CHAMBERÍ&quot;</td><td>&quot;Atropello a persona&quot;</td><td>&quot;Despejado&quot;</td><td>&quot;Motocicleta hasta 125cc&quot;</td><td>&quot;Peatón&quot;</td><td>&quot;De 25 a 29 años&quot;</td><td>&quot;Mujer&quot;</td><td>&quot;7&quot;</td><td>&quot;Asistencia sanitaria sólo en el lugar del acciden…</td><td>&quot;439961,798&quot;</td><td>&quot;4477600,669&quot;</td><td>&quot;N&quot;</td><td>&quot;NULL&quot;</td></tr><tr><td>&quot;2019S039993&quot;</td><td>&quot;10/11/2019&quot;</td><td>&quot;11:00:00&quot;</td><td>&quot;PLAZA. ELIPTICA / CALL. MARCELO USERA&quot;</td><td>&quot;1&quot;</td><td>12</td><td>&quot;USERA&quot;</td><td>&quot;Colisión lateral&quot;</td><td>&quot;Despejado&quot;</td><td>&quot;Motocicleta hasta 125cc&quot;</td><td>&quot;Conductor&quot;</td><td>&quot;De 25 a 29 años&quot;</td><td>&quot;Hombre&quot;</td><td>&quot;7&quot;</td><td>&quot;Asistencia sanitaria sólo en el lugar del acciden…</td><td>&quot;439115,482&quot;</td><td>&quot;4470746,354&quot;</td><td>&quot;N&quot;</td><td>&quot;NULL&quot;</td></tr><tr><td>&quot;2019S039993&quot;</td><td>&quot;10/11/2019&quot;</td><td>&quot;11:00:00&quot;</td><td>&quot;PLAZA. ELIPTICA / CALL. MARCELO USERA&quot;</td><td>&quot;1&quot;</td><td>12</td><td>&quot;USERA&quot;</td><td>&quot;Colisión lateral&quot;</td><td>&quot;Despejado&quot;</td><td>&quot;Turismo&quot;</td><td>&quot;Conductor&quot;</td><td>&quot;De 55 a 59 años&quot;</td><td>&quot;Mujer&quot;</td><td>&quot;14&quot;</td><td>&quot;Sin asistencia sanitaria&quot;</td><td>&quot;439115,482&quot;</td><td>&quot;4470746,354&quot;</td><td>&quot;N&quot;</td><td>&quot;NULL&quot;</td></tr><tr><td>&quot;2019S039993&quot;</td><td>&quot;10/11/2019&quot;</td><td>&quot;11:00:00&quot;</td><td>&quot;PLAZA. ELIPTICA / CALL. MARCELO USERA&quot;</td><td>&quot;1&quot;</td><td>12</td><td>&quot;USERA&quot;</td><td>&quot;Colisión lateral&quot;</td><td>&quot;Despejado&quot;</td><td>&quot;Turismo&quot;</td><td>&quot;Pasajero&quot;</td><td>&quot;De 60 a 64 años&quot;</td><td>&quot;Mujer&quot;</td><td>&quot;14&quot;</td><td>&quot;Sin asistencia sanitaria&quot;</td><td>&quot;439115,482&quot;</td><td>&quot;4470746,354&quot;</td><td>&quot;N&quot;</td><td>&quot;NULL&quot;</td></tr><tr><td>&quot;2019S040001&quot;</td><td>&quot;13/03/2019&quot;</td><td>&quot;12:47:00&quot;</td><td>&quot;CALL. ALFONSO FERNANDEZ CLAUSELLS, 7&quot;</td><td>&quot;7&quot;</td><td>9</td><td>&quot;MONCLOA-ARAVACA&quot;</td><td>&quot;Choque contra obstáculo fijo&quot;</td><td>&quot;Despejado&quot;</td><td>&quot;Turismo&quot;</td><td>&quot;Conductor&quot;</td><td>&quot;Desconocido&quot;</td><td>&quot;Desconocido&quot;</td><td>&quot;NULL&quot;</td><td>&quot;NULL&quot;</td><td>&quot;438541,541&quot;</td><td>&quot;4479292,853&quot;</td><td>&quot;N&quot;</td><td>&quot;NULL&quot;</td></tr><tr><td>&quot;2019S040001&quot;</td><td>&quot;13/03/2019&quot;</td><td>&quot;12:47:00&quot;</td><td>&quot;CALL. ALFONSO FERNANDEZ CLAUSELLS, 7&quot;</td><td>&quot;7&quot;</td><td>9</td><td>&quot;MONCLOA-ARAVACA&quot;</td><td>&quot;Choque contra obstáculo fijo&quot;</td><td>&quot;Despejado&quot;</td><td>&quot;Turismo&quot;</td><td>&quot;Conductor&quot;</td><td>&quot;Más de 74 años&quot;</td><td>&quot;Mujer&quot;</td><td>&quot;NULL&quot;</td><td>&quot;NULL&quot;</td><td>&quot;438541,541&quot;</td><td>&quot;4479292,853&quot;</td><td>&quot;N&quot;</td><td>&quot;NULL&quot;</td></tr><tr><td>&quot;2019S040007&quot;</td><td>&quot;03/11/2019&quot;</td><td>&quot;10:10:00&quot;</td><td>&quot;CALL. HALCONERO DEL REY, 0&quot;</td><td>&quot;0&quot;</td><td>11</td><td>&quot;CARABANCHEL&quot;</td><td>&quot;Colisión fronto-lateral&quot;</td><td>&quot;Despejado&quot;</td><td>&quot;Turismo&quot;</td><td>&quot;Conductor&quot;</td><td>&quot;De 25 a 29 años&quot;</td><td>&quot;Mujer&quot;</td><td>&quot;NULL&quot;</td><td>&quot;NULL&quot;</td><td>&quot;438343,989&quot;</td><td>&quot;4468673,466&quot;</td><td>&quot;N&quot;</td><td>&quot;NULL&quot;</td></tr><tr><td>&quot;2019S040007&quot;</td><td>&quot;03/11/2019&quot;</td><td>&quot;10:10:00&quot;</td><td>&quot;CALL. HALCONERO DEL REY, 0&quot;</td><td>&quot;0&quot;</td><td>11</td><td>&quot;CARABANCHEL&quot;</td><td>&quot;Colisión fronto-lateral&quot;</td><td>&quot;Despejado&quot;</td><td>&quot;Turismo&quot;</td><td>&quot;Conductor&quot;</td><td>&quot;De 35 a 39 años&quot;</td><td>&quot;Hombre&quot;</td><td>&quot;NULL&quot;</td><td>&quot;NULL&quot;</td><td>&quot;438343,989&quot;</td><td>&quot;4468673,466&quot;</td><td>&quot;N&quot;</td><td>&quot;NULL&quot;</td></tr></tbody></table></div>"
      ],
      "text/plain": [
       "shape: (51_811, 19)\n",
       "┌───────────┬───────────┬──────────┬───────────┬───┬───────────┬───────────┬───────────┬───────────┐\n",
       "│ num_exped ┆ fecha     ┆ hora     ┆ localizac ┆ … ┆ coordenad ┆ coordenad ┆ positiva_ ┆ positiva_ │\n",
       "│ iente     ┆ ---       ┆ ---      ┆ ion       ┆   ┆ a_x_utm   ┆ a_y_utm   ┆ alcohol   ┆ droga     │\n",
       "│ ---       ┆ str       ┆ str      ┆ ---       ┆   ┆ ---       ┆ ---       ┆ ---       ┆ ---       │\n",
       "│ str       ┆           ┆          ┆ str       ┆   ┆ str       ┆ str       ┆ str       ┆ str       │\n",
       "╞═══════════╪═══════════╪══════════╪═══════════╪═══╪═══════════╪═══════════╪═══════════╪═══════════╡\n",
       "│ 2018S0178 ┆ 04/02/201 ┆ 9:10:00  ┆ CALL.     ┆ … ┆ 440068,04 ┆ 4475679,1 ┆ N         ┆ NULL      │\n",
       "│ 42        ┆ 9         ┆          ┆ ALBERTO   ┆   ┆ 9         ┆ 7         ┆           ┆           │\n",
       "│           ┆           ┆          ┆ AGUILERA, ┆   ┆           ┆           ┆           ┆           │\n",
       "│           ┆           ┆          ┆ 1         ┆   ┆           ┆           ┆           ┆           │\n",
       "│ 2018S0178 ┆ 04/02/201 ┆ 9:10:00  ┆ CALL.     ┆ … ┆ 440068,04 ┆ 4475679,1 ┆ N         ┆ NULL      │\n",
       "│ 42        ┆ 9         ┆          ┆ ALBERTO   ┆   ┆ 9         ┆ 7         ┆           ┆           │\n",
       "│           ┆           ┆          ┆ AGUILERA, ┆   ┆           ┆           ┆           ┆           │\n",
       "│           ┆           ┆          ┆ 1         ┆   ┆           ┆           ┆           ┆           │\n",
       "│ 2019S0000 ┆ 01/01/201 ┆ 3:45:00  ┆ PASEO.    ┆ … ┆ 439139,60 ┆ 4470836,8 ┆ S         ┆ NULL      │\n",
       "│ 01        ┆ 9         ┆          ┆ SANTA     ┆   ┆ 3         ┆ 54        ┆           ┆           │\n",
       "│           ┆           ┆          ┆ MARIA DE  ┆   ┆           ┆           ┆           ┆           │\n",
       "│           ┆           ┆          ┆ LA CABEZA ┆   ┆           ┆           ┆           ┆           │\n",
       "│           ┆           ┆          ┆ / PLAZA.  ┆   ┆           ┆           ┆           ┆           │\n",
       "│           ┆           ┆          ┆ ELIPTICA  ┆   ┆           ┆           ┆           ┆           │\n",
       "│ 2019S0000 ┆ 01/01/201 ┆ 3:45:00  ┆ PASEO.    ┆ … ┆ 439139,60 ┆ 4470836,8 ┆ N         ┆ NULL      │\n",
       "│ 01        ┆ 9         ┆          ┆ SANTA     ┆   ┆ 3         ┆ 54        ┆           ┆           │\n",
       "│           ┆           ┆          ┆ MARIA DE  ┆   ┆           ┆           ┆           ┆           │\n",
       "│           ┆           ┆          ┆ LA CABEZA ┆   ┆           ┆           ┆           ┆           │\n",
       "│           ┆           ┆          ┆ / PLAZA.  ┆   ┆           ┆           ┆           ┆           │\n",
       "│           ┆           ┆          ┆ ELIPTICA  ┆   ┆           ┆           ┆           ┆           │\n",
       "│ 2019S0000 ┆ 01/01/201 ┆ 3:45:00  ┆ PASEO.    ┆ … ┆ 439139,60 ┆ 4470836,8 ┆ N         ┆ NULL      │\n",
       "│ 01        ┆ 9         ┆          ┆ SANTA     ┆   ┆ 3         ┆ 54        ┆           ┆           │\n",
       "│           ┆           ┆          ┆ MARIA DE  ┆   ┆           ┆           ┆           ┆           │\n",
       "│           ┆           ┆          ┆ LA CABEZA ┆   ┆           ┆           ┆           ┆           │\n",
       "│           ┆           ┆          ┆ / PLAZA.  ┆   ┆           ┆           ┆           ┆           │\n",
       "│           ┆           ┆          ┆ ELIPTICA  ┆   ┆           ┆           ┆           ┆           │\n",
       "│ 2019S0000 ┆ 01/01/201 ┆ 3:45:00  ┆ PASEO.    ┆ … ┆ 439139,60 ┆ 4470836,8 ┆ N         ┆ NULL      │\n",
       "│ 01        ┆ 9         ┆          ┆ SANTA     ┆   ┆ 3         ┆ 54        ┆           ┆           │\n",
       "│           ┆           ┆          ┆ MARIA DE  ┆   ┆           ┆           ┆           ┆           │\n",
       "│           ┆           ┆          ┆ LA CABEZA ┆   ┆           ┆           ┆           ┆           │\n",
       "│           ┆           ┆          ┆ / PLAZA.  ┆   ┆           ┆           ┆           ┆           │\n",
       "│           ┆           ┆          ┆ ELIPTICA  ┆   ┆           ┆           ┆           ┆           │\n",
       "│ 2019S0000 ┆ 01/01/201 ┆ 3:45:00  ┆ PASEO.    ┆ … ┆ 439139,60 ┆ 4470836,8 ┆ N         ┆ NULL      │\n",
       "│ 01        ┆ 9         ┆          ┆ SANTA     ┆   ┆ 3         ┆ 54        ┆           ┆           │\n",
       "│           ┆           ┆          ┆ MARIA DE  ┆   ┆           ┆           ┆           ┆           │\n",
       "│           ┆           ┆          ┆ LA CABEZA ┆   ┆           ┆           ┆           ┆           │\n",
       "│           ┆           ┆          ┆ / PLAZA.  ┆   ┆           ┆           ┆           ┆           │\n",
       "│           ┆           ┆          ┆ ELIPTICA  ┆   ┆           ┆           ┆           ┆           │\n",
       "│ 2019S0000 ┆ 01/01/201 ┆ 3:45:00  ┆ PASEO.    ┆ … ┆ 439139,60 ┆ 4470836,8 ┆ N         ┆ NULL      │\n",
       "│ 01        ┆ 9         ┆          ┆ SANTA     ┆   ┆ 3         ┆ 54        ┆           ┆           │\n",
       "│           ┆           ┆          ┆ MARIA DE  ┆   ┆           ┆           ┆           ┆           │\n",
       "│           ┆           ┆          ┆ LA CABEZA ┆   ┆           ┆           ┆           ┆           │\n",
       "│           ┆           ┆          ┆ / PLAZA.  ┆   ┆           ┆           ┆           ┆           │\n",
       "│           ┆           ┆          ┆ ELIPTICA  ┆   ┆           ┆           ┆           ┆           │\n",
       "│ 2019S0000 ┆ 01/01/201 ┆ 3:50:00  ┆ CALL.     ┆ … ┆ 436473,78 ┆ 4472030,4 ┆ N         ┆ NULL      │\n",
       "│ 02        ┆ 9         ┆          ┆ CUART DE  ┆   ┆ 9         ┆ 89        ┆           ┆           │\n",
       "│           ┆           ┆          ┆ POBLET,   ┆   ┆           ┆           ┆           ┆           │\n",
       "│           ┆           ┆          ┆ 65        ┆   ┆           ┆           ┆           ┆           │\n",
       "│ 2019S0000 ┆ 01/01/201 ┆ 3:50:00  ┆ CALL.     ┆ … ┆ 436473,78 ┆ 4472030,4 ┆ N         ┆ NULL      │\n",
       "│ 02        ┆ 9         ┆          ┆ CUART DE  ┆   ┆ 9         ┆ 89        ┆           ┆           │\n",
       "│           ┆           ┆          ┆ POBLET,   ┆   ┆           ┆           ┆           ┆           │\n",
       "│           ┆           ┆          ┆ 65        ┆   ┆           ┆           ┆           ┆           │\n",
       "│ 2019S0000 ┆ 01/01/201 ┆ 3:50:00  ┆ CALL.     ┆ … ┆ 436473,78 ┆ 4472030,4 ┆ N         ┆ NULL      │\n",
       "│ 02        ┆ 9         ┆          ┆ CUART DE  ┆   ┆ 9         ┆ 89        ┆           ┆           │\n",
       "│           ┆           ┆          ┆ POBLET,   ┆   ┆           ┆           ┆           ┆           │\n",
       "│           ┆           ┆          ┆ 65        ┆   ┆           ┆           ┆           ┆           │\n",
       "│ 2019S0000 ┆ 01/01/201 ┆ 3:50:00  ┆ CALL.     ┆ … ┆ 436473,78 ┆ 4472030,4 ┆ N         ┆ NULL      │\n",
       "│ 02        ┆ 9         ┆          ┆ CUART DE  ┆   ┆ 9         ┆ 89        ┆           ┆           │\n",
       "│           ┆           ┆          ┆ POBLET,   ┆   ┆           ┆           ┆           ┆           │\n",
       "│           ┆           ┆          ┆ 65        ┆   ┆           ┆           ┆           ┆           │\n",
       "│ 2019S0000 ┆ 01/01/201 ┆ 4:00:00  ┆ CALL.     ┆ … ┆ 440462,40 ┆ 4470926,5 ┆ S         ┆ NULL      │\n",
       "│ 03        ┆ 9         ┆          ┆ MARCELO   ┆   ┆ 7         ┆ 52        ┆           ┆           │\n",
       "│           ┆           ┆          ┆ USERA, 30 ┆   ┆           ┆           ┆           ┆           │\n",
       "│ 2019S0000 ┆ 01/01/201 ┆ 4:00:00  ┆ CALL.     ┆ … ┆ 440462,40 ┆ 4470926,5 ┆ N         ┆ NULL      │\n",
       "│ 03        ┆ 9         ┆          ┆ MARCELO   ┆   ┆ 7         ┆ 52        ┆           ┆           │\n",
       "│           ┆           ┆          ┆ USERA, 30 ┆   ┆           ┆           ┆           ┆           │\n",
       "│ 2019S0000 ┆ 01/01/201 ┆ 4:00:00  ┆ CALL.     ┆ … ┆ 440462,40 ┆ 4470926,5 ┆ N         ┆ NULL      │\n",
       "│ 03        ┆ 9         ┆          ┆ MARCELO   ┆   ┆ 7         ┆ 52        ┆           ┆           │\n",
       "│           ┆           ┆          ┆ USERA, 30 ┆   ┆           ┆           ┆           ┆           │\n",
       "│ …         ┆ …         ┆ …        ┆ …         ┆ … ┆ …         ┆ …         ┆ …         ┆ …         │\n",
       "│ 2019S0399 ┆ 30/12/201 ┆ 15:15:00 ┆ CALL. VIA ┆ … ┆ 437336,69 ┆ 4471892,6 ┆ N         ┆ NULL      │\n",
       "│ 75        ┆ 9         ┆          ┆ CARPETANA ┆   ┆ 4         ┆ 7         ┆           ┆           │\n",
       "│           ┆           ┆          ┆ / CALL.   ┆   ┆           ┆           ┆           ┆           │\n",
       "│           ┆           ┆          ┆ TARAZONA  ┆   ┆           ┆           ┆           ┆           │\n",
       "│ 2019S0399 ┆ 30/12/201 ┆ 15:15:00 ┆ CALL. VIA ┆ … ┆ 437336,69 ┆ 4471892,6 ┆ N         ┆ NULL      │\n",
       "│ 75        ┆ 9         ┆          ┆ CARPETANA ┆   ┆ 4         ┆ 7         ┆           ┆           │\n",
       "│           ┆           ┆          ┆ / CALL.   ┆   ┆           ┆           ┆           ┆           │\n",
       "│           ┆           ┆          ┆ TARAZONA  ┆   ┆           ┆           ┆           ┆           │\n",
       "│ 2019S0399 ┆ 30/12/201 ┆ 15:15:00 ┆ CALL. VIA ┆ … ┆ 437336,69 ┆ 4471892,6 ┆ N         ┆ NULL      │\n",
       "│ 75        ┆ 9         ┆          ┆ CARPETANA ┆   ┆ 4         ┆ 7         ┆           ┆           │\n",
       "│           ┆           ┆          ┆ / CALL.   ┆   ┆           ┆           ┆           ┆           │\n",
       "│           ┆           ┆          ┆ TARAZONA  ┆   ┆           ┆           ┆           ┆           │\n",
       "│ 2019S0399 ┆ 21/12/201 ┆ 13:40:00 ┆ AVDA.     ┆ … ┆ 440511,32 ┆ 4469125,1 ┆ N         ┆ NULL      │\n",
       "│ 77        ┆ 9         ┆          ┆ ORCASUR,  ┆   ┆           ┆ 35        ┆           ┆           │\n",
       "│           ┆           ┆          ┆ 2         ┆   ┆           ┆           ┆           ┆           │\n",
       "│ 2019S0399 ┆ 21/12/201 ┆ 13:40:00 ┆ AVDA.     ┆ … ┆ 440511,32 ┆ 4469125,1 ┆ N         ┆ NULL      │\n",
       "│ 77        ┆ 9         ┆          ┆ ORCASUR,  ┆   ┆           ┆ 35        ┆           ┆           │\n",
       "│           ┆           ┆          ┆ 2         ┆   ┆           ┆           ┆           ┆           │\n",
       "│ 2019S0399 ┆ 17/12/201 ┆ 15:36:00 ┆ CALL. EMB ┆ … ┆ 442426,14 ┆ 4468956,9 ┆ N         ┆ NULL      │\n",
       "│ 86        ┆ 9         ┆          ┆ AJADORES, ┆   ┆ 6         ┆ 6         ┆           ┆           │\n",
       "│           ┆           ┆          ┆ 470       ┆   ┆           ┆           ┆           ┆           │\n",
       "│ 2019S0399 ┆ 16/11/201 ┆ 14:45:00 ┆ AVDA.     ┆ … ┆ 439961,79 ┆ 4477600,6 ┆ N         ┆ NULL      │\n",
       "│ 87        ┆ 9         ┆          ┆ REINA     ┆   ┆ 8         ┆ 69        ┆           ┆           │\n",
       "│           ┆           ┆          ┆ VICTORIA  ┆   ┆           ┆           ┆           ┆           │\n",
       "│           ┆           ┆          ┆ / AVDA.   ┆   ┆           ┆           ┆           ┆           │\n",
       "│           ┆           ┆          ┆ PABLO     ┆   ┆           ┆           ┆           ┆           │\n",
       "│           ┆           ┆          ┆ IGLESIAS  ┆   ┆           ┆           ┆           ┆           │\n",
       "│ 2019S0399 ┆ 16/11/201 ┆ 14:45:00 ┆ AVDA.     ┆ … ┆ 439961,79 ┆ 4477600,6 ┆ N         ┆ NULL      │\n",
       "│ 87        ┆ 9         ┆          ┆ REINA     ┆   ┆ 8         ┆ 69        ┆           ┆           │\n",
       "│           ┆           ┆          ┆ VICTORIA  ┆   ┆           ┆           ┆           ┆           │\n",
       "│           ┆           ┆          ┆ / AVDA.   ┆   ┆           ┆           ┆           ┆           │\n",
       "│           ┆           ┆          ┆ PABLO     ┆   ┆           ┆           ┆           ┆           │\n",
       "│           ┆           ┆          ┆ IGLESIAS  ┆   ┆           ┆           ┆           ┆           │\n",
       "│ 2019S0399 ┆ 10/11/201 ┆ 11:00:00 ┆ PLAZA.    ┆ … ┆ 439115,48 ┆ 4470746,3 ┆ N         ┆ NULL      │\n",
       "│ 93        ┆ 9         ┆          ┆ ELIPTICA  ┆   ┆ 2         ┆ 54        ┆           ┆           │\n",
       "│           ┆           ┆          ┆ / CALL.   ┆   ┆           ┆           ┆           ┆           │\n",
       "│           ┆           ┆          ┆ MARCELO   ┆   ┆           ┆           ┆           ┆           │\n",
       "│           ┆           ┆          ┆ USERA     ┆   ┆           ┆           ┆           ┆           │\n",
       "│ 2019S0399 ┆ 10/11/201 ┆ 11:00:00 ┆ PLAZA.    ┆ … ┆ 439115,48 ┆ 4470746,3 ┆ N         ┆ NULL      │\n",
       "│ 93        ┆ 9         ┆          ┆ ELIPTICA  ┆   ┆ 2         ┆ 54        ┆           ┆           │\n",
       "│           ┆           ┆          ┆ / CALL.   ┆   ┆           ┆           ┆           ┆           │\n",
       "│           ┆           ┆          ┆ MARCELO   ┆   ┆           ┆           ┆           ┆           │\n",
       "│           ┆           ┆          ┆ USERA     ┆   ┆           ┆           ┆           ┆           │\n",
       "│ 2019S0399 ┆ 10/11/201 ┆ 11:00:00 ┆ PLAZA.    ┆ … ┆ 439115,48 ┆ 4470746,3 ┆ N         ┆ NULL      │\n",
       "│ 93        ┆ 9         ┆          ┆ ELIPTICA  ┆   ┆ 2         ┆ 54        ┆           ┆           │\n",
       "│           ┆           ┆          ┆ / CALL.   ┆   ┆           ┆           ┆           ┆           │\n",
       "│           ┆           ┆          ┆ MARCELO   ┆   ┆           ┆           ┆           ┆           │\n",
       "│           ┆           ┆          ┆ USERA     ┆   ┆           ┆           ┆           ┆           │\n",
       "│ 2019S0400 ┆ 13/03/201 ┆ 12:47:00 ┆ CALL.     ┆ … ┆ 438541,54 ┆ 4479292,8 ┆ N         ┆ NULL      │\n",
       "│ 01        ┆ 9         ┆          ┆ ALFONSO   ┆   ┆ 1         ┆ 53        ┆           ┆           │\n",
       "│           ┆           ┆          ┆ FERNANDEZ ┆   ┆           ┆           ┆           ┆           │\n",
       "│           ┆           ┆          ┆ CLAUSELLS ┆   ┆           ┆           ┆           ┆           │\n",
       "│           ┆           ┆          ┆ , 7       ┆   ┆           ┆           ┆           ┆           │\n",
       "│ 2019S0400 ┆ 13/03/201 ┆ 12:47:00 ┆ CALL.     ┆ … ┆ 438541,54 ┆ 4479292,8 ┆ N         ┆ NULL      │\n",
       "│ 01        ┆ 9         ┆          ┆ ALFONSO   ┆   ┆ 1         ┆ 53        ┆           ┆           │\n",
       "│           ┆           ┆          ┆ FERNANDEZ ┆   ┆           ┆           ┆           ┆           │\n",
       "│           ┆           ┆          ┆ CLAUSELLS ┆   ┆           ┆           ┆           ┆           │\n",
       "│           ┆           ┆          ┆ , 7       ┆   ┆           ┆           ┆           ┆           │\n",
       "│ 2019S0400 ┆ 03/11/201 ┆ 10:10:00 ┆ CALL.     ┆ … ┆ 438343,98 ┆ 4468673,4 ┆ N         ┆ NULL      │\n",
       "│ 07        ┆ 9         ┆          ┆ HALCONERO ┆   ┆ 9         ┆ 66        ┆           ┆           │\n",
       "│           ┆           ┆          ┆ DEL REY,  ┆   ┆           ┆           ┆           ┆           │\n",
       "│           ┆           ┆          ┆ 0         ┆   ┆           ┆           ┆           ┆           │\n",
       "│ 2019S0400 ┆ 03/11/201 ┆ 10:10:00 ┆ CALL.     ┆ … ┆ 438343,98 ┆ 4468673,4 ┆ N         ┆ NULL      │\n",
       "│ 07        ┆ 9         ┆          ┆ HALCONERO ┆   ┆ 9         ┆ 66        ┆           ┆           │\n",
       "│           ┆           ┆          ┆ DEL REY,  ┆   ┆           ┆           ┆           ┆           │\n",
       "│           ┆           ┆          ┆ 0         ┆   ┆           ┆           ┆           ┆           │\n",
       "└───────────┴───────────┴──────────┴───────────┴───┴───────────┴───────────┴───────────┴───────────┘"
      ]
     },
     "execution_count": 10,
     "metadata": {},
     "output_type": "execute_result"
    }
   ],
   "source": [
    "madrid_traffic_acc_df[2019]"
   ]
  },
  {
   "cell_type": "markdown",
   "metadata": {},
   "source": [
    "## **Removing columns**"
   ]
  },
  {
   "cell_type": "code",
   "execution_count": 11,
   "metadata": {},
   "outputs": [],
   "source": [
    "madrid_traffic_acc_df[2022] = madrid_traffic_acc_df[2022].select(pl.all().exclude(['', '_duplicated_0']))"
   ]
  },
  {
   "cell_type": "markdown",
   "metadata": {},
   "source": [
    "## **Replacing values**"
   ]
  },
  {
   "cell_type": "code",
   "execution_count": 12,
   "metadata": {},
   "outputs": [],
   "source": [
    "replace_dict = {}\n",
    "replace_dict['estado_meteorológico'] = {'NULL': None, 'Se desconoce': None}\n",
    "replace_dict['rango_edad'] = {'Desconocido': None}\n",
    "replace_dict['sexo'] = {'Desconocido': None}\n",
    "replace_dict['cod_lesividad'] = {'NULL': None}\n",
    "replace_dict['lesividad'] = {'NULL': None, 'Se desconoce': None}\n",
    "replace_dict['positiva_alcohol'] = {'NULL': None, 'N': False, 'S': True}\n",
    "replace_dict['positiva_droga'] = {'NULL': False, '1': True}\n",
    "replace_dict['coordenada_x_utm'] = {'NULL': None, \"#¡VALOR!\": None}\n",
    "replace_dict['coordenada_y_utm'] = {'NULL': None, \"#¡VALOR!\": None}\n",
    "replace_dict['tipo_persona'] = {'NULL': None}\n",
    "replace_dict['tipo_vehiculo'] = {'NULL': None, 'Sin especificar': None}\n",
    "replace_dict['distrito'] = {'NULL': None}\n",
    "replace_dict['tipo_accidente'] = {'NULL': None}\n"
   ]
  },
  {
   "cell_type": "code",
   "execution_count": 13,
   "metadata": {},
   "outputs": [],
   "source": [
    "for year in years:\n",
    "    for col in replace_dict.keys():\n",
    "        try:\n",
    "            madrid_traffic_acc_df[year] = madrid_traffic_acc_df[year].with_columns(pl.col(col).replace(replace_dict[col]).alias(col))\n",
    "        except:\n",
    "            pass"
   ]
  },
  {
   "cell_type": "markdown",
   "metadata": {},
   "source": [
    "## **Changing data types**"
   ]
  },
  {
   "cell_type": "code",
   "execution_count": 14,
   "metadata": {},
   "outputs": [],
   "source": [
    "columns_to_change = ['coordenada_x_utm', 'coordenada_y_utm']\n",
    "for year in years:\n",
    "    for col in columns_to_change:\n",
    "        try:\n",
    "            madrid_traffic_acc_df[year] = madrid_traffic_acc_df[year].with_columns(madrid_traffic_acc_df[year][col].map_elements(lambda x: x.replace(',', '.')).cast(pl.Float64).alias(col))\n",
    "        except:\n",
    "            pass"
   ]
  },
  {
   "cell_type": "markdown",
   "metadata": {},
   "source": [
    "## **Data types**"
   ]
  },
  {
   "cell_type": "code",
   "execution_count": 15,
   "metadata": {},
   "outputs": [
    {
     "name": "stdout",
     "output_type": "stream",
     "text": [
      "\n",
      "---------------------------------------\n",
      "Data types of the columns of 2019 df\n",
      "---------------------------------------\n",
      "\n",
      "---------------------------------------\n",
      "Data types of the columns of 2020 df\n",
      "---------------------------------------\n",
      "\n",
      "---------------------------------------\n",
      "Data types of the columns of 2021 df\n",
      "---------------------------------------\n",
      "\n",
      "---------------------------------------\n",
      "Data types of the columns of 2022 df\n",
      "---------------------------------------\n",
      "\n",
      "---------------------------------------\n",
      "Data types of the columns of 2023 df\n",
      "---------------------------------------\n",
      "\n",
      "---------------------------------------\n",
      "Data types of the columns of 2024 df\n",
      "---------------------------------------\n"
     ]
    }
   ],
   "source": [
    "for year in years:\n",
    "    print(f'\\n---------------------------------------\\nData types of the columns of {year} df\\n---------------------------------------')\n",
    "    #display(dtypes_df(df=madrid_traffic_acc_df[year]))"
   ]
  },
  {
   "cell_type": "markdown",
   "metadata": {},
   "source": [
    "## **Shapes**"
   ]
  },
  {
   "cell_type": "code",
   "execution_count": 16,
   "metadata": {},
   "outputs": [
    {
     "name": "stdout",
     "output_type": "stream",
     "text": [
      "Shape of 2019 df: (51811, 19)\n",
      "Shape of 2020 df: (32433, 19)\n",
      "Shape of 2021 df: (41783, 19)\n",
      "Shape of 2022 df: (47053, 19)\n",
      "Shape of 2023 df: (48830, 19)\n",
      "Shape of 2024 df: (11886, 19)\n"
     ]
    }
   ],
   "source": [
    "for year in years:\n",
    "    print(f'Shape of {year} df: {madrid_traffic_acc_df[year].shape}')"
   ]
  },
  {
   "cell_type": "markdown",
   "metadata": {},
   "source": [
    "## **Columns**"
   ]
  },
  {
   "cell_type": "code",
   "execution_count": 17,
   "metadata": {},
   "outputs": [
    {
     "name": "stdout",
     "output_type": "stream",
     "text": [
      "Columns of 2019 df: ['num_expediente', 'fecha', 'hora', 'localizacion', 'numero', 'cod_distrito', 'distrito', 'tipo_accidente', 'estado_meteorológico', 'tipo_vehiculo', 'tipo_persona', 'rango_edad', 'sexo', 'cod_lesividad', 'lesividad', 'coordenada_x_utm', 'coordenada_y_utm', 'positiva_alcohol', 'positiva_droga']\n",
      "Columns of 2020 df: ['num_expediente', 'fecha', 'hora', 'localizacion', 'numero', 'cod_distrito', 'distrito', 'tipo_accidente', 'estado_meteorológico', 'tipo_vehiculo', 'tipo_persona', 'rango_edad', 'sexo', 'cod_lesividad', 'lesividad', 'coordenada_x_utm', 'coordenada_y_utm', 'positiva_alcohol', 'positiva_droga']\n",
      "Columns of 2021 df: ['num_expediente', 'fecha', 'hora', 'localizacion', 'numero', 'cod_distrito', 'distrito', 'tipo_accidente', 'estado_meteorológico', 'tipo_vehiculo', 'tipo_persona', 'rango_edad', 'sexo', 'cod_lesividad', 'lesividad', 'coordenada_x_utm', 'coordenada_y_utm', 'positiva_alcohol', 'positiva_droga']\n",
      "Columns of 2022 df: ['num_expediente', 'fecha', 'hora', 'localizacion', 'numero', 'cod_distrito', 'distrito', 'tipo_accidente', 'estado_meteorológico', 'tipo_vehiculo', 'tipo_persona', 'rango_edad', 'sexo', 'cod_lesividad', 'lesividad', 'coordenada_x_utm', 'coordenada_y_utm', 'positiva_alcohol', 'positiva_droga']\n",
      "Columns of 2023 df: ['num_expediente', 'fecha', 'hora', 'localizacion', 'numero', 'cod_distrito', 'distrito', 'tipo_accidente', 'estado_meteorológico', 'tipo_vehiculo', 'tipo_persona', 'rango_edad', 'sexo', 'cod_lesividad', 'lesividad', 'coordenada_x_utm', 'coordenada_y_utm', 'positiva_alcohol', 'positiva_droga']\n",
      "Columns of 2024 df: ['num_expediente', 'fecha', 'hora', 'localizacion', 'numero', 'cod_distrito', 'distrito', 'tipo_accidente', 'estado_meteorológico', 'tipo_vehiculo', 'tipo_persona', 'rango_edad', 'sexo', 'cod_lesividad', 'lesividad', 'coordenada_x_utm', 'coordenada_y_utm', 'positiva_alcohol', 'positiva_droga']\n"
     ]
    }
   ],
   "source": [
    "for year in years:\n",
    "    print(f'Columns of {year} df: {madrid_traffic_acc_df[year].columns}')"
   ]
  },
  {
   "cell_type": "markdown",
   "metadata": {},
   "source": [
    "## **Unique values**"
   ]
  },
  {
   "cell_type": "code",
   "execution_count": 18,
   "metadata": {},
   "outputs": [
    {
     "name": "stdout",
     "output_type": "stream",
     "text": [
      "\n",
      "------------------------------------------------------\n",
      "Number of unique values for columns of 2019 df\n",
      "------------------------------------------------------\n",
      "num_expediente : 21934\n",
      "fecha : 365\n",
      "hora : 1214\n",
      "localizacion : 15853\n",
      "numero : 823\n",
      "cod_distrito : 21\n",
      "distrito : 21\n",
      "tipo_accidente : 13\n",
      "estado_meteorológico : 7\n",
      "tipo_vehiculo : 30\n",
      "tipo_persona : 3\n",
      "rango_edad : 18\n",
      "sexo : 3\n",
      "cod_lesividad : 10\n",
      "lesividad : 9\n",
      "coordenada_x_utm : 21068\n",
      "coordenada_y_utm : 21544\n",
      "positiva_alcohol : 3\n",
      "positiva_droga : 2\n",
      "\n",
      "------------------------------------------------------\n",
      "Number of unique values for columns of 2020 df\n",
      "------------------------------------------------------\n",
      "num_expediente : 14172\n",
      "fecha : 366\n",
      "hora : 1017\n",
      "localizacion : 11069\n",
      "numero : 707\n",
      "cod_distrito : 22\n",
      "distrito : 22\n",
      "tipo_accidente : 13\n",
      "estado_meteorológico : 7\n",
      "tipo_vehiculo : 35\n",
      "tipo_persona : 3\n",
      "rango_edad : 18\n",
      "sexo : 3\n",
      "cod_lesividad : 10\n",
      "lesividad : 9\n",
      "coordenada_x_utm : 13829\n",
      "coordenada_y_utm : 14037\n",
      "positiva_alcohol : 3\n",
      "positiva_droga : 2\n",
      "\n",
      "------------------------------------------------------\n",
      "Number of unique values for columns of 2021 df\n",
      "------------------------------------------------------\n",
      "num_expediente : 17952\n",
      "fecha : 365\n",
      "hora : 1106\n",
      "localizacion : 13500\n",
      "numero : 769\n",
      "cod_distrito : 22\n",
      "distrito : 22\n",
      "tipo_accidente : 14\n",
      "estado_meteorológico : 7\n",
      "tipo_vehiculo : 37\n",
      "tipo_persona : 4\n",
      "rango_edad : 18\n",
      "sexo : 3\n",
      "cod_lesividad : 9\n",
      "lesividad : 9\n",
      "coordenada_x_utm : 17399\n",
      "coordenada_y_utm : 17710\n",
      "positiva_alcohol : 3\n",
      "positiva_droga : 2\n",
      "\n",
      "------------------------------------------------------\n",
      "Number of unique values for columns of 2022 df\n",
      "------------------------------------------------------\n",
      "num_expediente : 20212\n",
      "fecha : 365\n",
      "hora : 1207\n",
      "localizacion : 15146\n",
      "numero : 913\n",
      "cod_distrito : 21\n",
      "distrito : 21\n",
      "tipo_accidente : 13\n",
      "estado_meteorológico : 7\n",
      "tipo_vehiculo : 32\n",
      "tipo_persona : 3\n",
      "rango_edad : 18\n",
      "sexo : 3\n",
      "cod_lesividad : 10\n",
      "lesividad : 9\n",
      "coordenada_x_utm : 19517\n",
      "coordenada_y_utm : 19939\n",
      "positiva_alcohol : 3\n",
      "positiva_droga : 2\n",
      "\n",
      "------------------------------------------------------\n",
      "Number of unique values for columns of 2023 df\n",
      "------------------------------------------------------\n",
      "num_expediente : 20672\n",
      "fecha : 365\n",
      "hora : 1250\n",
      "localizacion : 15924\n",
      "numero : 1718\n",
      "cod_distrito : 22\n",
      "distrito : 22\n",
      "tipo_accidente : 13\n",
      "estado_meteorológico : 6\n",
      "tipo_vehiculo : 34\n",
      "tipo_persona : 3\n",
      "rango_edad : 18\n",
      "sexo : 3\n",
      "cod_lesividad : 10\n",
      "lesividad : 9\n",
      "coordenada_x_utm : 19858\n",
      "coordenada_y_utm : 20371\n",
      "positiva_alcohol : 3\n",
      "positiva_droga : 2\n",
      "\n",
      "------------------------------------------------------\n",
      "Number of unique values for columns of 2024 df\n",
      "------------------------------------------------------\n",
      "num_expediente : 4989\n",
      "fecha : 91\n",
      "hora : 798\n",
      "localizacion : 4373\n",
      "numero : 805\n",
      "cod_distrito : 21\n",
      "distrito : 21\n",
      "tipo_accidente : 12\n",
      "estado_meteorológico : 7\n",
      "tipo_vehiculo : 26\n",
      "tipo_persona : 3\n",
      "rango_edad : 18\n",
      "sexo : 3\n",
      "cod_lesividad : 9\n",
      "lesividad : 9\n",
      "coordenada_x_utm : 4929\n",
      "coordenada_y_utm : 4968\n",
      "positiva_alcohol : 3\n",
      "positiva_droga : 2\n"
     ]
    }
   ],
   "source": [
    "n_unique = {year: {} for year in years}\n",
    "\n",
    "for year in years:\n",
    "     print(f'\\n------------------------------------------------------\\nNumber of unique values for columns of {year} df\\n------------------------------------------------------')\n",
    "     for col in madrid_traffic_acc_df[year].columns :\n",
    "          n_unique[year][col] = len(madrid_traffic_acc_df[year][col].unique())\n",
    "          print(col, ':', n_unique[year][col])"
   ]
  },
  {
   "cell_type": "code",
   "execution_count": 19,
   "metadata": {},
   "outputs": [
    {
     "data": {
      "text/plain": [
       "\"\\nfor year in years:\\n    print(f'\\n--------------------------------------------------\\nUnique values for columns of {year} df\\n--------------------------------------------------')\\n    for col in madrid_traffic_acc_df[year].columns :\\n        display(madrid_traffic_acc_df[year][col].unique())\\n\""
      ]
     },
     "execution_count": 19,
     "metadata": {},
     "output_type": "execute_result"
    }
   ],
   "source": [
    "'''\n",
    "for year in years:\n",
    "    print(f'\\n--------------------------------------------------\\nUnique values for columns of {year} df\\n--------------------------------------------------')\n",
    "    for col in madrid_traffic_acc_df[year].columns :\n",
    "        display(madrid_traffic_acc_df[year][col].unique())\n",
    "'''"
   ]
  },
  {
   "cell_type": "code",
   "execution_count": 20,
   "metadata": {},
   "outputs": [],
   "source": [
    "#for col in madrid_traffic_acc_df[year].columns :\n",
    "    #display(madrid_traffic_acc_df[year][col].unique())"
   ]
  },
  {
   "cell_type": "markdown",
   "metadata": {},
   "source": [
    "## **Concatenating the data**"
   ]
  },
  {
   "cell_type": "code",
   "execution_count": 21,
   "metadata": {},
   "outputs": [],
   "source": [
    "madrid_traffic_acc_df = pl.concat([madrid_traffic_acc_df[year] for year in years], how='vertical')"
   ]
  },
  {
   "cell_type": "markdown",
   "metadata": {},
   "source": [
    "## **Replacing values (II)**"
   ]
  },
  {
   "cell_type": "code",
   "execution_count": 22,
   "metadata": {},
   "outputs": [],
   "source": [
    "replace_dict = {}\n",
    "\n",
    "replace_dict['rango_edad'] = {}\n",
    "unique_values = madrid_traffic_acc_df['rango_edad'].unique().drop_nulls().to_list()\n",
    "for i in range(len(unique_values)):\n",
    "    limits = [x for x in unique_values[i].split(' ') if x.isdigit()]\n",
    "    if len(limits) == 2:\n",
    "        replace_dict['rango_edad'][unique_values[i]] = f'[{limits[0]},{limits[1]}]'\n",
    "    elif len(limits) == 1:\n",
    "        if 'Más' in unique_values[i].split(' '):\n",
    "            replace_dict['rango_edad'][unique_values[i]] = f'> {limits[0]}'\n",
    "        elif 'Menor' in unique_values[i].split(' '):\n",
    "            replace_dict['rango_edad'][unique_values[i]] = f'< {int(limits[0])+1}'\n",
    "\n",
    "unique_values = madrid_traffic_acc_df['tipo_vehiculo'].unique().drop_nulls().to_list()\n",
    "replace_dict['tipo_vehiculo'] =  {x: 'Autobus' for x in unique_values if 'bus' in x or 'bús' in x}\n",
    "replace_dict['tipo_vehiculo'].update({x: 'Moto' for x in unique_values if 'ciclo' in x.lower() or 'moto' in x.lower()})\n",
    "replace_dict['tipo_vehiculo'].update({x: 'Maquinaria' for x in unique_values if 'maquinaria' in x.lower()})\n",
    "replace_dict['tipo_vehiculo'].update({x: 'Patinete' for x in unique_values if 'patinete' in x.lower()})\n",
    "replace_dict['tipo_vehiculo'].update({x: 'Remolque' for x in unique_values if 'remolque' in x.lower()})\n",
    "replace_dict['tipo_vehiculo'].update({x: 'Otros' for x in unique_values if 'otros' in x.lower()})\n",
    "replace_dict['tipo_vehiculo'].update({x: 'Bicicleta' for x in unique_values if 'bici' in x.lower()})\n",
    "\n",
    "replace_dict['lesividad'] = {'Asistencia sanitaria inmediata en centro de salud o mutua': 'Asist. inmediata CS',\n",
    "                             'Asistencia sanitaria ambulatoria con posterioridad': 'Asist. posterior CS',\n",
    "                             'Ingreso inferior o igual a 24 horas': 'Ingreso <= 24h',\n",
    "                             'Fallecido 24 horas': 'Fallecido',\n",
    "                             'Atención en urgencias sin posterior ingreso': 'Urg. sin ingreso',\n",
    "                             'Asistencia sanitaria sólo en el lugar del accidente': 'Asist. solo insitu',\n",
    "                             'Ingreso superior a 24 horas': 'Ingreso > 24h',\n",
    "                             'Sin asistencia sanitaria': 'Sin asist. sanitaria'\n",
    "                             }\n",
    "\n",
    "replace_dict['tipo_accidente'] = {'Solo salida de la vía': 'Salida via',\n",
    "                                  'Atropello a animal': 'Atropello animal',\n",
    "                                  'Atropello a persona': 'Atropello persona',\n",
    "                                  'Choque contra obstáculo fijo': 'Choque obstaculo fijo'\n",
    "                                  }\n",
    "\n",
    "geojson_file = r'C:\\Users\\fscielzo\\Documents\\DataScience-GitHub\\EDA\\Madrid-Traffic-Accidents\\data\\madrid-districts.geojson'\n",
    "with open(geojson_file) as f:\n",
    "    madrid_geojson = json.load(f)\n",
    "distritos_geojson = [madrid_geojson['features'][i]['properties']['name'] for i in range(len(madrid_geojson['features']))]\n",
    "distritos_data = madrid_traffic_acc_df['distrito'].drop_nulls().unique().to_list()\n",
    "replace_dict['distrito'] = {x: find_most_similar_string(unidecode(x.lower().title()), candidates=distritos_geojson) for x in distritos_data}\n",
    "\n",
    "for col in replace_dict.keys():\n",
    "    madrid_traffic_acc_df = madrid_traffic_acc_df.with_columns(pl.col(col).replace(replace_dict[col]).alias(col))"
   ]
  },
  {
   "cell_type": "markdown",
   "metadata": {},
   "source": [
    "## Preprocessing districts data"
   ]
  },
  {
   "cell_type": "code",
   "execution_count": 23,
   "metadata": {},
   "outputs": [],
   "source": [
    "district_data = {}"
   ]
  },
  {
   "cell_type": "code",
   "execution_count": 24,
   "metadata": {},
   "outputs": [],
   "source": [
    "csv_name = 'indicadores_distritos_barrios'\n",
    "distritos_barrios_df = pl.read_csv(fr'C:\\Users\\fscielzo\\Documents\\DataScience-GitHub\\EDA\\Madrid-Traffic-Accidents\\data\\{csv_name}.csv', \n",
    "                                      separator=';', ignore_errors=True)\n",
    "\n",
    "distritos_barrios_df = distritos_barrios_df.select(['distrito', 'barrio', 'año', 'indicador_completo', 'valor_indicador'])\\\n",
    "                                           .drop_nulls(subset=['distrito'])\\\n",
    "                                           .pivot(\n",
    "                                                index=[\"distrito\", \"barrio\", \"año\"],\n",
    "                                                columns=\"indicador_completo\",\n",
    "                                                values=\"valor_indicador\",\n",
    "                                                aggregate_function = 'first'\n",
    "                                                )\n",
    "\n",
    "distritos_barrios_df = distritos_barrios_df.select(['distrito',\n",
    "                                                    'barrio',\n",
    "                                                    'año',\n",
    "                                                    'Superficie (Ha.) ',\n",
    "                                                    'Población densidad (hab./Ha.) ',\n",
    "                                                    'Número Habitantes',\n",
    "                                                    'Población Hombres ',\n",
    "                                                    'Población Mujeres',\n",
    "                                                    'Edad media de la población',\n",
    "                                                    'Población de 0 a 14 años   ',\n",
    "                                                    'Población de 15 a 29 años',\n",
    "                                                    'Población de 30 a 44  años',\n",
    "                                                    'Población de 45 a 64 años',\n",
    "                                                    'Población de 65 a 79 años      ',\n",
    "                                                    'Población de 80 años y más           ',\n",
    "                                                    'Población de 65 años y más          ',\n",
    "                                                    'Personas con nacionalidad española             ',\n",
    "                                                    'Personas con nacionalidad española Hombres                      ',\n",
    "                                                    'Personas con nacionalidad española Mujeres                      ',\n",
    "                                                    'Personas con nacionalidad extranjera            ',\n",
    "                                                    'Personas con nacionalidad extranjera Hombres                       ',\n",
    "                                                    'Personas con nacionalidad extranjera Mujeres                        ',\n",
    "                                                    'Renta neta media anual de los hogares (Urban Audit)             ',\n",
    "                                                    'Renta disponible media por persona',\n",
    "                                                    'Paro registrado (número de personas registradas en SEPE en febrero) ',\n",
    "                                                    'Paro registrado (número de personas registradas en SEPE en febrero) hombres    ',\n",
    "                                                    'Paro registrado (número de personas registradas en SEPE en febrero) mujeres',\n",
    "                                                    'Tasa absoluta de paro registrado (febrero)',\n",
    "                                                    'Tasa absoluta de paro registrado Mujeres',\n",
    "                                                    'Tasa de desempleo en mujeres de 16 a 24 años',\n",
    "                                                    'Tasa de desempleo en mujeres de 25 a 44 años',\n",
    "                                                    'Tasa de desempleo en mujeres de 45 a 64 años',\n",
    "                                                    'Tasa absoluta de paro registrado Hombres ',\n",
    "                                                    'Tasa de desempleo en hombres de 16 a 24 años',\n",
    "                                                    'Tasa de desempleo en hombres de 25 a 44 años',\n",
    "                                                    'Tasa de desempleo en hombres de 45 a 64 años',\n",
    "                                                    'Personas paradas de larga duración (febrero)              ',\n",
    "                                                    'Personas paradas de larga duración (febrero) hombres                         ',\n",
    "                                                    'Personas paradas de larga duración (febrero) mujeres                            ',\n",
    "                                                    'Personas paradas que SÍ perciben prestaciones (febrero)',\n",
    "                                                    'Personas paradas que SÍ perciben prestaciones (febrero) hombres                         ',\n",
    "                                                    'Personas paradas que SÍ perciben prestaciones (febrero) mujeres                         ',\n",
    "                                                    'Personas paradas que NO perciben prestaciones (febrero)',\n",
    "                                                    'Personas paradas que NO perciben prestaciones (febrero) hombres          ',\n",
    "                                                    'Personas paradas que NO perciben prestaciones (febrero) mujeres          ',\n",
    "                                                    'Población en etapas educativas',\n",
    "                                                    'Alumnado en Centros privados concertados',\n",
    "                                                    'Alumnado en Centros privados sin concierto',\n",
    "                                                    'Alumnado en Centros públicos',\n",
    "                                                    'Total alumnado extranjero ',\n",
    "                                                    'Alumnado extranjero en Centros privados concertados                   ',\n",
    "                                                    'Alumnado extranjero en Centros privados sin concierto                  ',\n",
    "                                                    'Alumnado extranjero en Centros públicos                        ',\n",
    "                                                    'Total alumnado con necesidades de apoyo educativo  ',\n",
    "                                                    'Alumnado con necesidades de apoyo educativo en Centros privados concertados                   ',\n",
    "                                                    'Alumnado con necesidades de apoyo educativo en Centros privados sin concierto                  ',\n",
    "                                                    'Alumnado con necesidades de apoyo educativo en Centros públicos                        ',\n",
    "                                                    'Población mayor/igual  de 25 años  que no sabe leer ni escribir o sin estudios                ',\n",
    "                                                    'Población mayor/igual  de 25 años con enseñanza primaria incompleta  ',\n",
    "                                                    'Población mayor/igual  de 25 años con Bachiller Elemental, Graduado Escolar, ESO, Formación profesional 1º grado  ',\n",
    "                                                    'Población mayor/igual  de 25 años con Formación profesional 2º grado, Bachiller Superior o BUP  ',\n",
    "                                                    'Población mayor/igual  de 25 años con titulación media, diplomatura, arquitectura o ingeniería técnica    ',\n",
    "                                                    'Población mayor/igual  de 25 años  con estudios superiores, licenciatura, arquitectura, ingeniería sup., estudios sup. no universitarios, doctorado,  postgraduado  ',\n",
    "                                                    'Población mayor/igual  de 25 años con Nivel de estudios desconocido y/o no consta                                   ',\n",
    "                                                    'Casos trabajados por el programa de absentismo municipal',\n",
    "                                                    'Número de personas con grado de discapacidad reconocido                               ',\n",
    "                                                    'Número de personas con grado de discapacidad reconocido Hombres                                    ',\n",
    "                                                    'Número de personas con grado de discapacidad reconocido Mujeres                                    ',\n",
    "                                                    'Satisfacción de vivir en su barrio ',\n",
    "                                                    'Calidad de vida actual en su barrio ',\n",
    "                                                    'Percepción de seguridad en Madrid',\n",
    "                                                    'Percepción de seguridad en el barrio por el día',\n",
    "                                                    'Percepción de seguridad en el barrio por la noche',\n",
    "                                                    'Solicitudes tramitadas de Renta Mínima de Inserción',\n",
    "                                                    'Personas perceptoras de prestación de la Renta Mínima de Inserción',\n",
    "                                                    'Personas beneficiarias de prestaciones sociales de carácter económico',\n",
    "                                                    'Total prestaciones sociales de carácter económico ',\n",
    "                                                    'Personas con Servicio de Ayuda a Domicilio (modalidad auxiliar de hogar)  ',\n",
    "                                                    'Número Total de viviendas (Censo Edificios y Viviendas 2011)',\n",
    "                                                    'Viviendas anteriores a 1980                                                                 ',\n",
    "                                                    'Viviendas en estado ruinoso',\n",
    "                                                    'Viviendas en estado malo ',\n",
    "                                                    'Viviendas en estado deficiente  ',\n",
    "                                                    'Viviendas en estado bueno ',\n",
    "                                                    'Estado de la vivienda no consta ',\n",
    "                                                    'Número Total de viviendas familiares (Censo Edificios y Viviendas 2011) ',\n",
    "                                                    'Número Total de viviendas familiares (Censo Edificios y Viviendas 2011) Principal                           ',\n",
    "                                                    'Número Total de viviendas familiares (Censo Edificios y Viviendas 2011)  Secundaria                           ',\n",
    "                                                    'Número Total de viviendas familiares (Censo Edificios y Viviendas 2011)  Población desocupada    ',\n",
    "                                                    'Intervenciones de la Policía Municipal en materia de seguridad: delitos relacionados con las personas',\n",
    "                                                    'Intervenciones de la Policía Municipal en materia de seguridad: relacionadas con la tenencia de armas',\n",
    "                                                    'Intervenciones de la Policía Municipal en materia de seguridad: relacionadas con el patrimonio',\n",
    "                                                    'Intervenciones de la Policía Municipal en materia de seguridad: relacionadas con la tenencia y consumo de drogas',\n",
    "                                                    'Atestados/partes de accidentes de tráfico confeccionados',\n",
    "                                                    'Personas detenidas e investigadas por la Policía Municipal en materia de seguridad: Total  personas detenidas e investigadas ',\n",
    "                                                    'Elecciones municipales, censo electoral',\n",
    "                                                    'Elecciones municipales, abstenciones',\n",
    "                                                    'Elecciones  municipales, votos en blanco',\n",
    "                                                    'Elecciones municipales, votos a candidaturas',\n",
    "                                                    'Elecciones municipales, votos a Más Madrid',\n",
    "                                                    'Elecciones municipales, votos al Partido Popular',\n",
    "                                                    'Elecciones municipales, votos a Ciudadanos-Partido de la Ciudadanía',\n",
    "                                                    'Elecciones municipales, votos al Partido Socialista Obrero Español',\n",
    "                                                    'Elecciones municipales, votos a VOX',\n",
    "                                                    'Sedentarismo',\n",
    "                                                    'Consumo de tabaco diario',\n",
    "                                                    'Consumo de medicamentos ',\n",
    "                                                    'Autopercepción de buen estado de salud  (porcentaje respuesta muy buena + buena)',\n",
    "                                                    'Calidad de vida relacionada con la salud (CVRS) ',\n",
    "                                                    'Presencia de enfermedad crónica ',\n",
    "                                                    'Hipertensión arterial',\n",
    "                                                    'Diabetes Mellitus',\n",
    "                                                    'Personas con obesidad ',\n",
    "                                                    'Personas con sobrepeso',\n",
    "                                                    'Prevalencia de obesidad en la población infantil (2017. Estudio Madrid Salud. UCM)',\n",
    "                                                    'Probabilidad de padecer enfermedad mental (GHQ-12)          (2018. EMS)',\n",
    "                                                    'Grado de satisfacción con los espacios verdes',\n",
    "                                                    'Grado de satisfacción con los parques infantiles ',\n",
    "                                                    'Grado de satisfacción con los centros culturales',\n",
    "                                                    'Grado de satisfacción con las instalaciones deportivas',\n",
    "                                                    'Grado de satisfacción de los servicios sociales municipales',\n",
    "                                                    'Superficie media construida (m2) inmuebles de uso residencial',\n",
    "                                                    'Año medio de contrucción de inmuebles de uso residencial '])\n",
    "\n",
    "columns_renamed = [x.lstrip(' ').rstrip(' ') for x in distritos_barrios_df.columns]\n",
    "distritos_barrios_df = distritos_barrios_df.rename(dict(zip(distritos_barrios_df.columns, columns_renamed)))\n",
    "distritos_df = distritos_barrios_df.filter(pl.col('barrio').is_null()).select(pl.exclude('barrio'))\n",
    "\n",
    "columns_to_modify_type = [x for x in distritos_df.columns if x not in ['distrito', 'año']]\n",
    "for col in columns_to_modify_type:\n",
    "    distritos_df = distritos_df.with_columns(pl.col(col)\\\n",
    "                               .map_elements(lambda x: reformat_str_number(x))\\\n",
    "                               .cast(pl.Float64).round(2))\n",
    "\n",
    "replace_dict = {x: find_most_similar_string(unidecode(x.lower().title()), candidates=distritos_geojson) for x in distritos_df['distrito'].drop_nulls().unique().to_list()}\n",
    "distritos_df = distritos_df.with_columns(pl.col('distrito').replace(replace_dict).alias('distrito'))\n",
    "\n",
    "columns_to_agg = [x for x in distritos_df.columns if x not in ['distrito', 'año']]\n",
    "distritos_grouped_df = distritos_df.group_by(['distrito']).agg(pl.col(columns_to_agg).mean().round(2))\n",
    "district_data[csv_name] = distritos_grouped_df\n"
   ]
  },
  {
   "cell_type": "code",
   "execution_count": 25,
   "metadata": {},
   "outputs": [
    {
     "data": {
      "text/html": [
       "<div><style>\n",
       ".dataframe > thead > tr,\n",
       ".dataframe > tbody > tr {\n",
       "  text-align: right;\n",
       "  white-space: pre-wrap;\n",
       "}\n",
       "</style>\n",
       "<small>shape: (7, 122)</small><table border=\"1\" class=\"dataframe\"><thead><tr><th>distrito</th><th>año</th><th>Superficie (Ha.)</th><th>Población densidad (hab./Ha.)</th><th>Número Habitantes</th><th>Población Hombres</th><th>Población Mujeres</th><th>Edad media de la población</th><th>Población de 0 a 14 años</th><th>Población de 15 a 29 años</th><th>Población de 30 a 44  años</th><th>Población de 45 a 64 años</th><th>Población de 65 a 79 años</th><th>Población de 80 años y más</th><th>Población de 65 años y más</th><th>Personas con nacionalidad española</th><th>Personas con nacionalidad española Hombres</th><th>Personas con nacionalidad española Mujeres</th><th>Personas con nacionalidad extranjera</th><th>Personas con nacionalidad extranjera Hombres</th><th>Personas con nacionalidad extranjera Mujeres</th><th>Renta neta media anual de los hogares (Urban Audit)</th><th>Renta disponible media por persona</th><th>Paro registrado (número de personas registradas en SEPE en febrero)</th><th>Paro registrado (número de personas registradas en SEPE en febrero) hombres</th><th>Paro registrado (número de personas registradas en SEPE en febrero) mujeres</th><th>Tasa absoluta de paro registrado (febrero)</th><th>Tasa absoluta de paro registrado Mujeres</th><th>Tasa de desempleo en mujeres de 16 a 24 años</th><th>Tasa de desempleo en mujeres de 25 a 44 años</th><th>Tasa de desempleo en mujeres de 45 a 64 años</th><th>Tasa absoluta de paro registrado Hombres</th><th>Tasa de desempleo en hombres de 16 a 24 años</th><th>Tasa de desempleo en hombres de 25 a 44 años</th><th>Tasa de desempleo en hombres de 45 a 64 años</th><th>Personas paradas de larga duración (febrero)</th><th>Personas paradas de larga duración (febrero) hombres</th><th>&hellip;</th><th>Número Total de viviendas familiares (Censo Edificios y Viviendas 2011) Principal</th><th>Número Total de viviendas familiares (Censo Edificios y Viviendas 2011)  Secundaria</th><th>Número Total de viviendas familiares (Censo Edificios y Viviendas 2011)  Población desocupada</th><th>Intervenciones de la Policía Municipal en materia de seguridad: delitos relacionados con las personas</th><th>Intervenciones de la Policía Municipal en materia de seguridad: relacionadas con la tenencia de armas</th><th>Intervenciones de la Policía Municipal en materia de seguridad: relacionadas con el patrimonio</th><th>Intervenciones de la Policía Municipal en materia de seguridad: relacionadas con la tenencia y consumo de drogas</th><th>Atestados/partes de accidentes de tráfico confeccionados</th><th>Personas detenidas e investigadas por la Policía Municipal en materia de seguridad: Total  personas detenidas e investigadas</th><th>Elecciones municipales, censo electoral</th><th>Elecciones municipales, abstenciones</th><th>Elecciones  municipales, votos en blanco</th><th>Elecciones municipales, votos a candidaturas</th><th>Elecciones municipales, votos a Más Madrid</th><th>Elecciones municipales, votos al Partido Popular</th><th>Elecciones municipales, votos a Ciudadanos-Partido de la Ciudadanía</th><th>Elecciones municipales, votos al Partido Socialista Obrero Español</th><th>Elecciones municipales, votos a VOX</th><th>Sedentarismo</th><th>Consumo de tabaco diario</th><th>Consumo de medicamentos</th><th>Autopercepción de buen estado de salud  (porcentaje respuesta muy buena + buena)</th><th>Calidad de vida relacionada con la salud (CVRS)</th><th>Presencia de enfermedad crónica</th><th>Hipertensión arterial</th><th>Diabetes Mellitus</th><th>Personas con obesidad</th><th>Personas con sobrepeso</th><th>Prevalencia de obesidad en la población infantil (2017. Estudio Madrid Salud. UCM)</th><th>Probabilidad de padecer enfermedad mental (GHQ-12)          (2018. EMS)</th><th>Grado de satisfacción con los espacios verdes</th><th>Grado de satisfacción con los parques infantiles</th><th>Grado de satisfacción con los centros culturales</th><th>Grado de satisfacción con las instalaciones deportivas</th><th>Grado de satisfacción de los servicios sociales municipales</th><th>Superficie media construida (m2) inmuebles de uso residencial</th><th>Año medio de contrucción de inmuebles de uso residencial</th></tr><tr><td>str</td><td>i64</td><td>f64</td><td>f64</td><td>f64</td><td>f64</td><td>f64</td><td>f64</td><td>f64</td><td>f64</td><td>f64</td><td>f64</td><td>f64</td><td>f64</td><td>f64</td><td>f64</td><td>f64</td><td>f64</td><td>f64</td><td>f64</td><td>f64</td><td>f64</td><td>f64</td><td>f64</td><td>f64</td><td>f64</td><td>f64</td><td>f64</td><td>f64</td><td>f64</td><td>f64</td><td>f64</td><td>f64</td><td>f64</td><td>f64</td><td>f64</td><td>f64</td><td>&hellip;</td><td>f64</td><td>f64</td><td>f64</td><td>f64</td><td>f64</td><td>f64</td><td>f64</td><td>f64</td><td>f64</td><td>f64</td><td>f64</td><td>f64</td><td>f64</td><td>f64</td><td>f64</td><td>f64</td><td>f64</td><td>f64</td><td>f64</td><td>f64</td><td>f64</td><td>f64</td><td>f64</td><td>f64</td><td>f64</td><td>f64</td><td>f64</td><td>f64</td><td>f64</td><td>f64</td><td>f64</td><td>f64</td><td>f64</td><td>f64</td><td>f64</td><td>f64</td><td>f64</td></tr></thead><tbody><tr><td>&quot;Centro&quot;</td><td>2019</td><td>523.0</td><td>258.0</td><td>134881.0</td><td>67829.0</td><td>67052.0</td><td>44.03</td><td>10554.0</td><td>21800.0</td><td>42857.0</td><td>38025.0</td><td>14196.0</td><td>7449.0</td><td>21645.0</td><td>104041.0</td><td>51264.0</td><td>52777.0</td><td>30837.0</td><td>16564.0</td><td>14273.0</td><td>32458.0</td><td>24920.0</td><td>7595.0</td><td>3974.0</td><td>3621.0</td><td>7.05</td><td>7.15</td><td>2.87</td><td>6.01</td><td>9.91</td><td>6.96</td><td>3.03</td><td>5.34</td><td>10.23</td><td>2523.0</td><td>1308.0</td><td>&hellip;</td><td>70500.0</td><td>5095.0</td><td>11200.0</td><td>943.0</td><td>716.0</td><td>1439.0</td><td>2155.0</td><td>1271.0</td><td>1852.0</td><td>98873.0</td><td>32505.0</td><td>273.0</td><td>65900.0</td><td>32421.0</td><td>11379.0</td><td>8851.0</td><td>6069.0</td><td>3625.0</td><td>null</td><td>null</td><td>null</td><td>null</td><td>null</td><td>null</td><td>null</td><td>null</td><td>null</td><td>null</td><td>null</td><td>null</td><td>6.5</td><td>5.4</td><td>6.9</td><td>5.5</td><td>5.9</td><td>null</td><td>1926.0</td></tr><tr><td>&quot;Centro&quot;</td><td>2018</td><td>null</td><td>null</td><td>null</td><td>null</td><td>null</td><td>null</td><td>null</td><td>null</td><td>null</td><td>null</td><td>null</td><td>null</td><td>null</td><td>null</td><td>null</td><td>null</td><td>null</td><td>null</td><td>null</td><td>36072.0</td><td>null</td><td>null</td><td>null</td><td>null</td><td>null</td><td>null</td><td>null</td><td>null</td><td>null</td><td>null</td><td>null</td><td>null</td><td>null</td><td>null</td><td>null</td><td>&hellip;</td><td>null</td><td>null</td><td>null</td><td>null</td><td>null</td><td>null</td><td>null</td><td>null</td><td>null</td><td>null</td><td>null</td><td>null</td><td>null</td><td>null</td><td>null</td><td>null</td><td>null</td><td>null</td><td>0.27</td><td>0.23</td><td>0.63</td><td>0.76</td><td>0.2</td><td>0.34</td><td>0.13</td><td>0.04</td><td>0.09</td><td>0.26</td><td>0.17</td><td>0.22</td><td>null</td><td>null</td><td>null</td><td>null</td><td>null</td><td>null</td><td>null</td></tr><tr><td>&quot;Centro&quot;</td><td>2020</td><td>null</td><td>null</td><td>null</td><td>null</td><td>null</td><td>null</td><td>null</td><td>null</td><td>null</td><td>null</td><td>null</td><td>null</td><td>null</td><td>106387.0</td><td>52871.0</td><td>53516.0</td><td>34084.0</td><td>18255.0</td><td>15829.0</td><td>36984.0</td><td>18314.0</td><td>null</td><td>null</td><td>null</td><td>null</td><td>null</td><td>null</td><td>null</td><td>null</td><td>null</td><td>null</td><td>null</td><td>null</td><td>null</td><td>null</td><td>&hellip;</td><td>null</td><td>null</td><td>null</td><td>431.0</td><td>303.0</td><td>848.0</td><td>1309.0</td><td>734.0</td><td>1297.0</td><td>null</td><td>null</td><td>null</td><td>null</td><td>null</td><td>null</td><td>null</td><td>null</td><td>null</td><td>null</td><td>null</td><td>null</td><td>null</td><td>null</td><td>null</td><td>null</td><td>null</td><td>null</td><td>null</td><td>null</td><td>null</td><td>null</td><td>null</td><td>null</td><td>null</td><td>null</td><td>108.0</td><td>1926.0</td></tr><tr><td>&quot;Arganzuela&quot;</td><td>2019</td><td>646.0</td><td>238.0</td><td>153830.0</td><td>71631.0</td><td>82199.0</td><td>44.55</td><td>18187.0</td><td>22294.0</td><td>38224.0</td><td>45479.0</td><td>19685.0</td><td>9961.0</td><td>29646.0</td><td>138533.0</td><td>64425.0</td><td>74108.0</td><td>15295.0</td><td>7205.0</td><td>8090.0</td><td>null</td><td>24137.0</td><td>6802.0</td><td>3076.0</td><td>3726.0</td><td>null</td><td>null</td><td>null</td><td>null</td><td>null</td><td>null</td><td>null</td><td>null</td><td>null</td><td>2443.0</td><td>995.0</td><td>&hellip;</td><td>67175.0</td><td>2365.0</td><td>6725.0</td><td>199.0</td><td>19.0</td><td>287.0</td><td>306.0</td><td>949.0</td><td>291.0</td><td>120913.0</td><td>30928.0</td><td>388.0</td><td>89317.0</td><td>35017.0</td><td>18850.0</td><td>16757.0</td><td>9464.0</td><td>5772.0</td><td>null</td><td>null</td><td>null</td><td>null</td><td>null</td><td>null</td><td>null</td><td>null</td><td>null</td><td>null</td><td>null</td><td>null</td><td>7.0</td><td>6.6</td><td>7.1</td><td>6.6</td><td>6.2</td><td>null</td><td>1976.0</td></tr><tr><td>&quot;Arganzuela&quot;</td><td>2018</td><td>null</td><td>null</td><td>null</td><td>null</td><td>null</td><td>null</td><td>null</td><td>null</td><td>null</td><td>null</td><td>null</td><td>null</td><td>null</td><td>null</td><td>null</td><td>null</td><td>null</td><td>null</td><td>null</td><td>43789.0</td><td>null</td><td>null</td><td>null</td><td>null</td><td>null</td><td>null</td><td>null</td><td>null</td><td>null</td><td>null</td><td>null</td><td>null</td><td>null</td><td>null</td><td>null</td><td>&hellip;</td><td>null</td><td>null</td><td>null</td><td>null</td><td>null</td><td>null</td><td>null</td><td>null</td><td>null</td><td>null</td><td>null</td><td>null</td><td>null</td><td>null</td><td>null</td><td>null</td><td>null</td><td>null</td><td>0.26</td><td>0.2</td><td>0.67</td><td>0.74</td><td>0.2</td><td>0.43</td><td>0.18</td><td>0.06</td><td>0.1</td><td>0.35</td><td>0.12</td><td>0.17</td><td>null</td><td>null</td><td>null</td><td>null</td><td>null</td><td>null</td><td>null</td></tr><tr><td>&quot;Arganzuela&quot;</td><td>2016</td><td>null</td><td>null</td><td>null</td><td>null</td><td>null</td><td>null</td><td>null</td><td>null</td><td>null</td><td>null</td><td>null</td><td>null</td><td>null</td><td>null</td><td>null</td><td>null</td><td>null</td><td>null</td><td>null</td><td>41122.0</td><td>24511.0</td><td>null</td><td>null</td><td>null</td><td>null</td><td>null</td><td>null</td><td>null</td><td>null</td><td>null</td><td>null</td><td>null</td><td>null</td><td>null</td><td>null</td><td>&hellip;</td><td>null</td><td>null</td><td>null</td><td>null</td><td>null</td><td>null</td><td>null</td><td>null</td><td>null</td><td>null</td><td>null</td><td>null</td><td>null</td><td>null</td><td>null</td><td>null</td><td>null</td><td>null</td><td>null</td><td>null</td><td>null</td><td>null</td><td>null</td><td>null</td><td>null</td><td>null</td><td>null</td><td>null</td><td>null</td><td>null</td><td>null</td><td>null</td><td>null</td><td>null</td><td>null</td><td>null</td><td>null</td></tr><tr><td>&quot;Arganzuela&quot;</td><td>2008</td><td>null</td><td>null</td><td>null</td><td>null</td><td>null</td><td>null</td><td>null</td><td>null</td><td>null</td><td>null</td><td>null</td><td>null</td><td>null</td><td>null</td><td>null</td><td>null</td><td>null</td><td>null</td><td>null</td><td>null</td><td>null</td><td>null</td><td>null</td><td>null</td><td>null</td><td>null</td><td>null</td><td>null</td><td>null</td><td>null</td><td>null</td><td>null</td><td>null</td><td>null</td><td>null</td><td>&hellip;</td><td>null</td><td>null</td><td>null</td><td>null</td><td>null</td><td>null</td><td>null</td><td>null</td><td>null</td><td>null</td><td>null</td><td>null</td><td>null</td><td>null</td><td>null</td><td>null</td><td>null</td><td>null</td><td>null</td><td>null</td><td>null</td><td>null</td><td>null</td><td>null</td><td>null</td><td>null</td><td>null</td><td>null</td><td>null</td><td>null</td><td>null</td><td>null</td><td>null</td><td>null</td><td>null</td><td>null</td><td>null</td></tr></tbody></table></div>"
      ],
      "text/plain": [
       "shape: (7, 122)\n",
       "┌────────────┬──────┬────────────┬────────────┬───┬────────────┬───────────┬───────────┬───────────┐\n",
       "│ distrito   ┆ año  ┆ Superficie ┆ Población  ┆ … ┆ Grado de   ┆ Grado de  ┆ Superfici ┆ Año medio │\n",
       "│ ---        ┆ ---  ┆ (Ha.)      ┆ densidad   ┆   ┆ satisfacci ┆ satisfacc ┆ e media   ┆ de contru │\n",
       "│ str        ┆ i64  ┆ ---        ┆ (hab./Ha.) ┆   ┆ ón con las ┆ ión de    ┆ construid ┆ cción de  │\n",
       "│            ┆      ┆ f64        ┆ ---        ┆   ┆ instalacio ┆ los       ┆ a (m2)    ┆ inmuebles │\n",
       "│            ┆      ┆            ┆ f64        ┆   ┆ nes        ┆ servicios ┆ inmuebles ┆ de uso    │\n",
       "│            ┆      ┆            ┆            ┆   ┆ deport…    ┆ sociales  ┆ de uso …  ┆ resid…    │\n",
       "│            ┆      ┆            ┆            ┆   ┆ ---        ┆ mu…       ┆ ---       ┆ ---       │\n",
       "│            ┆      ┆            ┆            ┆   ┆ f64        ┆ ---       ┆ f64       ┆ f64       │\n",
       "│            ┆      ┆            ┆            ┆   ┆            ┆ f64       ┆           ┆           │\n",
       "╞════════════╪══════╪════════════╪════════════╪═══╪════════════╪═══════════╪═══════════╪═══════════╡\n",
       "│ Centro     ┆ 2019 ┆ 523.0      ┆ 258.0      ┆ … ┆ 5.5        ┆ 5.9       ┆ null      ┆ 1926.0    │\n",
       "│ Centro     ┆ 2018 ┆ null       ┆ null       ┆ … ┆ null       ┆ null      ┆ null      ┆ null      │\n",
       "│ Centro     ┆ 2020 ┆ null       ┆ null       ┆ … ┆ null       ┆ null      ┆ 108.0     ┆ 1926.0    │\n",
       "│ Arganzuela ┆ 2019 ┆ 646.0      ┆ 238.0      ┆ … ┆ 6.6        ┆ 6.2       ┆ null      ┆ 1976.0    │\n",
       "│ Arganzuela ┆ 2018 ┆ null       ┆ null       ┆ … ┆ null       ┆ null      ┆ null      ┆ null      │\n",
       "│ Arganzuela ┆ 2016 ┆ null       ┆ null       ┆ … ┆ null       ┆ null      ┆ null      ┆ null      │\n",
       "│ Arganzuela ┆ 2008 ┆ null       ┆ null       ┆ … ┆ null       ┆ null      ┆ null      ┆ null      │\n",
       "└────────────┴──────┴────────────┴────────────┴───┴────────────┴───────────┴───────────┴───────────┘"
      ]
     },
     "execution_count": 25,
     "metadata": {},
     "output_type": "execute_result"
    }
   ],
   "source": [
    "distritos_df.head(7)"
   ]
  },
  {
   "cell_type": "code",
   "execution_count": 26,
   "metadata": {},
   "outputs": [
    {
     "data": {
      "text/html": [
       "<div><style>\n",
       ".dataframe > thead > tr,\n",
       ".dataframe > tbody > tr {\n",
       "  text-align: right;\n",
       "  white-space: pre-wrap;\n",
       "}\n",
       "</style>\n",
       "<small>shape: (5, 121)</small><table border=\"1\" class=\"dataframe\"><thead><tr><th>distrito</th><th>Superficie (Ha.)</th><th>Población densidad (hab./Ha.)</th><th>Número Habitantes</th><th>Población Hombres</th><th>Población Mujeres</th><th>Edad media de la población</th><th>Población de 0 a 14 años</th><th>Población de 15 a 29 años</th><th>Población de 30 a 44  años</th><th>Población de 45 a 64 años</th><th>Población de 65 a 79 años</th><th>Población de 80 años y más</th><th>Población de 65 años y más</th><th>Personas con nacionalidad española</th><th>Personas con nacionalidad española Hombres</th><th>Personas con nacionalidad española Mujeres</th><th>Personas con nacionalidad extranjera</th><th>Personas con nacionalidad extranjera Hombres</th><th>Personas con nacionalidad extranjera Mujeres</th><th>Renta neta media anual de los hogares (Urban Audit)</th><th>Renta disponible media por persona</th><th>Paro registrado (número de personas registradas en SEPE en febrero)</th><th>Paro registrado (número de personas registradas en SEPE en febrero) hombres</th><th>Paro registrado (número de personas registradas en SEPE en febrero) mujeres</th><th>Tasa absoluta de paro registrado (febrero)</th><th>Tasa absoluta de paro registrado Mujeres</th><th>Tasa de desempleo en mujeres de 16 a 24 años</th><th>Tasa de desempleo en mujeres de 25 a 44 años</th><th>Tasa de desempleo en mujeres de 45 a 64 años</th><th>Tasa absoluta de paro registrado Hombres</th><th>Tasa de desempleo en hombres de 16 a 24 años</th><th>Tasa de desempleo en hombres de 25 a 44 años</th><th>Tasa de desempleo en hombres de 45 a 64 años</th><th>Personas paradas de larga duración (febrero)</th><th>Personas paradas de larga duración (febrero) hombres</th><th>Personas paradas de larga duración (febrero) mujeres</th><th>&hellip;</th><th>Número Total de viviendas familiares (Censo Edificios y Viviendas 2011) Principal</th><th>Número Total de viviendas familiares (Censo Edificios y Viviendas 2011)  Secundaria</th><th>Número Total de viviendas familiares (Censo Edificios y Viviendas 2011)  Población desocupada</th><th>Intervenciones de la Policía Municipal en materia de seguridad: delitos relacionados con las personas</th><th>Intervenciones de la Policía Municipal en materia de seguridad: relacionadas con la tenencia de armas</th><th>Intervenciones de la Policía Municipal en materia de seguridad: relacionadas con el patrimonio</th><th>Intervenciones de la Policía Municipal en materia de seguridad: relacionadas con la tenencia y consumo de drogas</th><th>Atestados/partes de accidentes de tráfico confeccionados</th><th>Personas detenidas e investigadas por la Policía Municipal en materia de seguridad: Total  personas detenidas e investigadas</th><th>Elecciones municipales, censo electoral</th><th>Elecciones municipales, abstenciones</th><th>Elecciones  municipales, votos en blanco</th><th>Elecciones municipales, votos a candidaturas</th><th>Elecciones municipales, votos a Más Madrid</th><th>Elecciones municipales, votos al Partido Popular</th><th>Elecciones municipales, votos a Ciudadanos-Partido de la Ciudadanía</th><th>Elecciones municipales, votos al Partido Socialista Obrero Español</th><th>Elecciones municipales, votos a VOX</th><th>Sedentarismo</th><th>Consumo de tabaco diario</th><th>Consumo de medicamentos</th><th>Autopercepción de buen estado de salud  (porcentaje respuesta muy buena + buena)</th><th>Calidad de vida relacionada con la salud (CVRS)</th><th>Presencia de enfermedad crónica</th><th>Hipertensión arterial</th><th>Diabetes Mellitus</th><th>Personas con obesidad</th><th>Personas con sobrepeso</th><th>Prevalencia de obesidad en la población infantil (2017. Estudio Madrid Salud. UCM)</th><th>Probabilidad de padecer enfermedad mental (GHQ-12)          (2018. EMS)</th><th>Grado de satisfacción con los espacios verdes</th><th>Grado de satisfacción con los parques infantiles</th><th>Grado de satisfacción con los centros culturales</th><th>Grado de satisfacción con las instalaciones deportivas</th><th>Grado de satisfacción de los servicios sociales municipales</th><th>Superficie media construida (m2) inmuebles de uso residencial</th><th>Año medio de contrucción de inmuebles de uso residencial</th></tr><tr><td>str</td><td>f64</td><td>f64</td><td>f64</td><td>f64</td><td>f64</td><td>f64</td><td>f64</td><td>f64</td><td>f64</td><td>f64</td><td>f64</td><td>f64</td><td>f64</td><td>f64</td><td>f64</td><td>f64</td><td>f64</td><td>f64</td><td>f64</td><td>f64</td><td>f64</td><td>f64</td><td>f64</td><td>f64</td><td>f64</td><td>f64</td><td>f64</td><td>f64</td><td>f64</td><td>f64</td><td>f64</td><td>f64</td><td>f64</td><td>f64</td><td>f64</td><td>f64</td><td>&hellip;</td><td>f64</td><td>f64</td><td>f64</td><td>f64</td><td>f64</td><td>f64</td><td>f64</td><td>f64</td><td>f64</td><td>f64</td><td>f64</td><td>f64</td><td>f64</td><td>f64</td><td>f64</td><td>f64</td><td>f64</td><td>f64</td><td>f64</td><td>f64</td><td>f64</td><td>f64</td><td>f64</td><td>f64</td><td>f64</td><td>f64</td><td>f64</td><td>f64</td><td>f64</td><td>f64</td><td>f64</td><td>f64</td><td>f64</td><td>f64</td><td>f64</td><td>f64</td><td>f64</td></tr></thead><tbody><tr><td>&quot;Arganzuela&quot;</td><td>646.06</td><td>239.56</td><td>153691.0</td><td>71801.5</td><td>81889.5</td><td>44.85</td><td>17238.25</td><td>22836.5</td><td>37032.75</td><td>45653.0</td><td>21176.25</td><td>9754.25</td><td>30930.5</td><td>137948.0</td><td>64280.75</td><td>74269.5</td><td>16143.25</td><td>7642.25</td><td>8501.0</td><td>43407.0</td><td>23370.25</td><td>6847.5</td><td>3042.0</td><td>3805.5</td><td>6.52</td><td>7.03</td><td>2.94</td><td>6.43</td><td>8.59</td><td>6.03</td><td>3.14</td><td>5.22</td><td>7.71</td><td>2914.0</td><td>1205.25</td><td>1708.75</td><td>&hellip;</td><td>67175.0</td><td>2365.0</td><td>6725.0</td><td>125.0</td><td>14.25</td><td>170.75</td><td>186.25</td><td>820.5</td><td>269.25</td><td>120486.5</td><td>30455.5</td><td>604.0</td><td>89003.0</td><td>35017.0</td><td>27061.5</td><td>9902.5</td><td>11566.5</td><td>6083.0</td><td>0.26</td><td>0.2</td><td>0.67</td><td>0.74</td><td>0.2</td><td>0.43</td><td>0.18</td><td>0.06</td><td>0.1</td><td>0.35</td><td>0.12</td><td>0.17</td><td>6.93</td><td>6.57</td><td>6.9</td><td>6.6</td><td>6.13</td><td>95.0</td><td>1976.0</td></tr><tr><td>&quot;Chamberi&quot;</td><td>467.98</td><td>299.09</td><td>138582.5</td><td>61243.25</td><td>77339.25</td><td>46.35</td><td>13767.0</td><td>23370.75</td><td>31753.0</td><td>36006.25</td><td>21750.5</td><td>11935.0</td><td>33685.5</td><td>122113.0</td><td>54124.0</td><td>69029.0</td><td>16953.75</td><td>7281.75</td><td>9672.0</td><td>53655.33</td><td>28739.25</td><td>4789.5</td><td>2049.0</td><td>2740.5</td><td>5.28</td><td>5.62</td><td>2.0</td><td>4.73</td><td>7.69</td><td>4.87</td><td>1.96</td><td>4.18</td><td>6.67</td><td>2021.25</td><td>789.0</td><td>1232.25</td><td>&hellip;</td><td>63620.0</td><td>7120.0</td><td>9040.0</td><td>134.25</td><td>12.0</td><td>148.5</td><td>283.25</td><td>983.5</td><td>201.75</td><td>108689.5</td><td>27672.5</td><td>500.5</td><td>80176.5</td><td>21582.0</td><td>35880.0</td><td>9567.5</td><td>7595.5</td><td>7503.5</td><td>0.28</td><td>0.24</td><td>0.69</td><td>0.76</td><td>0.2</td><td>0.39</td><td>0.18</td><td>0.05</td><td>0.07</td><td>0.3</td><td>0.11</td><td>0.21</td><td>6.83</td><td>6.4</td><td>7.2</td><td>6.8</td><td>6.57</td><td>122.0</td><td>1956.0</td></tr><tr><td>&quot;Carabanchel&quot;</td><td>1404.96</td><td>184.44</td><td>257662.5</td><td>120238.25</td><td>137424.25</td><td>43.53</td><td>33854.25</td><td>43567.75</td><td>56879.25</td><td>75073.25</td><td>30300.75</td><td>17987.25</td><td>48288.0</td><td>203057.75</td><td>94225.25</td><td>109730.5</td><td>53787.25</td><td>25549.25</td><td>28238.0</td><td>29677.67</td><td>15334.0</td><td>16820.75</td><td>7384.75</td><td>9436.0</td><td>9.61</td><td>10.37</td><td>5.79</td><td>10.11</td><td>12.0</td><td>8.79</td><td>5.92</td><td>7.93</td><td>10.62</td><td>7455.0</td><td>2952.25</td><td>4502.75</td><td>&hellip;</td><td>99610.0</td><td>3515.0</td><td>12145.0</td><td>407.25</td><td>55.25</td><td>354.5</td><td>396.5</td><td>1123.5</td><td>549.25</td><td>172215.5</td><td>65476.5</td><td>690.5</td><td>105306.5</td><td>35119.0</td><td>30517.0</td><td>10024.0</td><td>20226.0</td><td>8501.5</td><td>0.32</td><td>0.17</td><td>0.63</td><td>0.69</td><td>0.2</td><td>0.4</td><td>0.18</td><td>0.07</td><td>0.16</td><td>0.35</td><td>0.21</td><td>0.22</td><td>7.03</td><td>6.57</td><td>6.9</td><td>6.83</td><td>6.4</td><td>86.0</td><td>1974.33</td></tr><tr><td>&quot;Latina&quot;</td><td>2542.93</td><td>95.01</td><td>239504.5</td><td>111032.5</td><td>128472.0</td><td>46.56</td><td>26800.25</td><td>37377.0</td><td>49176.25</td><td>67958.25</td><td>35952.75</td><td>22240.0</td><td>58192.75</td><td>198737.75</td><td>92242.5</td><td>107504.5</td><td>40633.75</td><td>18710.25</td><td>21923.5</td><td>31773.0</td><td>16775.0</td><td>13837.25</td><td>6166.25</td><td>7671.0</td><td>9.0</td><td>9.58</td><td>4.92</td><td>9.13</td><td>11.34</td><td>8.35</td><td>5.16</td><td>7.48</td><td>10.22</td><td>6153.5</td><td>2483.25</td><td>3670.25</td><td>&hellip;</td><td>99875.0</td><td>2735.0</td><td>12885.0</td><td>192.25</td><td>34.5</td><td>184.5</td><td>396.0</td><td>883.75</td><td>400.0</td><td>174086.0</td><td>57042.5</td><td>710.5</td><td>115533.5</td><td>36084.0</td><td>36384.0</td><td>11041.0</td><td>21088.5</td><td>9318.0</td><td>0.3</td><td>0.21</td><td>0.68</td><td>0.71</td><td>0.21</td><td>0.44</td><td>0.24</td><td>0.1</td><td>0.15</td><td>0.36</td><td>0.17</td><td>0.23</td><td>7.1</td><td>6.5</td><td>6.8</td><td>6.73</td><td>6.33</td><td>91.0</td><td>1977.0</td></tr><tr><td>&quot;Tetuan&quot;</td><td>537.12</td><td>298.17</td><td>158996.75</td><td>72328.75</td><td>86668.0</td><td>44.13</td><td>17056.0</td><td>27166.25</td><td>41103.25</td><td>43173.25</td><td>19445.75</td><td>11052.25</td><td>30498.0</td><td>127400.5</td><td>58450.75</td><td>69520.5</td><td>31732.25</td><td>13893.75</td><td>17838.5</td><td>37321.67</td><td>19966.75</td><td>8376.0</td><td>3656.25</td><td>4719.75</td><td>7.52</td><td>7.99</td><td>4.01</td><td>6.83</td><td>10.5</td><td>6.99</td><td>4.15</td><td>5.28</td><td>10.19</td><td>3780.75</td><td>1531.5</td><td>2249.25</td><td>&hellip;</td><td>68100.0</td><td>2945.0</td><td>9120.0</td><td>229.75</td><td>26.5</td><td>197.75</td><td>209.5</td><td>854.75</td><td>408.25</td><td>112267.5</td><td>38954.5</td><td>470.5</td><td>72459.0</td><td>21319.0</td><td>26493.5</td><td>7913.5</td><td>10548.5</td><td>6666.5</td><td>0.31</td><td>0.2</td><td>0.7</td><td>0.67</td><td>0.2</td><td>0.41</td><td>0.17</td><td>0.07</td><td>0.12</td><td>0.32</td><td>0.17</td><td>0.21</td><td>6.77</td><td>6.4</td><td>7.0</td><td>6.73</td><td>6.63</td><td>91.0</td><td>1971.0</td></tr></tbody></table></div>"
      ],
      "text/plain": [
       "shape: (5, 121)\n",
       "┌───────────┬───────────┬───────────┬───────────┬───┬───────────┬───────────┬───────────┬──────────┐\n",
       "│ distrito  ┆ Superfici ┆ Población ┆ Número    ┆ … ┆ Grado de  ┆ Grado de  ┆ Superfici ┆ Año      │\n",
       "│ ---       ┆ e (Ha.)   ┆ densidad  ┆ Habitante ┆   ┆ satisfacc ┆ satisfacc ┆ e media   ┆ medio de │\n",
       "│ str       ┆ ---       ┆ (hab./Ha. ┆ s         ┆   ┆ ión con   ┆ ión de    ┆ construid ┆ contrucc │\n",
       "│           ┆ f64       ┆ )         ┆ ---       ┆   ┆ las insta ┆ los       ┆ a (m2)    ┆ ión de   │\n",
       "│           ┆           ┆ ---       ┆ f64       ┆   ┆ laciones  ┆ servicios ┆ inmuebles ┆ inmueble │\n",
       "│           ┆           ┆ f64       ┆           ┆   ┆ deport…   ┆ sociales  ┆ de uso …  ┆ s de uso │\n",
       "│           ┆           ┆           ┆           ┆   ┆ ---       ┆ mu…       ┆ ---       ┆ resid…   │\n",
       "│           ┆           ┆           ┆           ┆   ┆ f64       ┆ ---       ┆ f64       ┆ ---      │\n",
       "│           ┆           ┆           ┆           ┆   ┆           ┆ f64       ┆           ┆ f64      │\n",
       "╞═══════════╪═══════════╪═══════════╪═══════════╪═══╪═══════════╪═══════════╪═══════════╪══════════╡\n",
       "│ Arganzuel ┆ 646.06    ┆ 239.56    ┆ 153691.0  ┆ … ┆ 6.6       ┆ 6.13      ┆ 95.0      ┆ 1976.0   │\n",
       "│ a         ┆           ┆           ┆           ┆   ┆           ┆           ┆           ┆          │\n",
       "│ Chamberi  ┆ 467.98    ┆ 299.09    ┆ 138582.5  ┆ … ┆ 6.8       ┆ 6.57      ┆ 122.0     ┆ 1956.0   │\n",
       "│ Carabanch ┆ 1404.96   ┆ 184.44    ┆ 257662.5  ┆ … ┆ 6.83      ┆ 6.4       ┆ 86.0      ┆ 1974.33  │\n",
       "│ el        ┆           ┆           ┆           ┆   ┆           ┆           ┆           ┆          │\n",
       "│ Latina    ┆ 2542.93   ┆ 95.01     ┆ 239504.5  ┆ … ┆ 6.73      ┆ 6.33      ┆ 91.0      ┆ 1977.0   │\n",
       "│ Tetuan    ┆ 537.12    ┆ 298.17    ┆ 158996.75 ┆ … ┆ 6.73      ┆ 6.63      ┆ 91.0      ┆ 1971.0   │\n",
       "└───────────┴───────────┴───────────┴───────────┴───┴───────────┴───────────┴───────────┴──────────┘"
      ]
     },
     "execution_count": 26,
     "metadata": {},
     "output_type": "execute_result"
    }
   ],
   "source": [
    "distritos_grouped_df.head()"
   ]
  },
  {
   "cell_type": "code",
   "execution_count": 27,
   "metadata": {},
   "outputs": [
    {
     "data": {
      "text/html": [
       "<div><style>\n",
       ".dataframe > thead > tr,\n",
       ".dataframe > tbody > tr {\n",
       "  text-align: right;\n",
       "  white-space: pre-wrap;\n",
       "}\n",
       "</style>\n",
       "<small>shape: (9,)</small><table border=\"1\" class=\"dataframe\"><thead><tr><th>año</th></tr><tr><td>i64</td></tr></thead><tbody><tr><td>2008</td></tr><tr><td>2016</td></tr><tr><td>2017</td></tr><tr><td>2018</td></tr><tr><td>2019</td></tr><tr><td>2020</td></tr><tr><td>2021</td></tr><tr><td>2022</td></tr><tr><td>2023</td></tr></tbody></table></div>"
      ],
      "text/plain": [
       "shape: (9,)\n",
       "Series: 'año' [i64]\n",
       "[\n",
       "\t2008\n",
       "\t2016\n",
       "\t2017\n",
       "\t2018\n",
       "\t2019\n",
       "\t2020\n",
       "\t2021\n",
       "\t2022\n",
       "\t2023\n",
       "]"
      ]
     },
     "execution_count": 27,
     "metadata": {},
     "output_type": "execute_result"
    }
   ],
   "source": [
    "distritos_df['año'].unique()"
   ]
  },
  {
   "cell_type": "code",
   "execution_count": 41,
   "metadata": {},
   "outputs": [
    {
     "name": "stdout",
     "output_type": "stream",
     "text": [
      "poblacion\n",
      "poblacion_española\n",
      "poblacion_extranjera\n",
      "perc_poblacion_extranjera\n",
      "Total Población\n",
      "% de 0 a 15 años\n",
      "% de 16 a 64 años\n",
      "% de 65 años y más\n",
      "% de 80 años y más\n",
      "Edad promedio\n",
      "Crecimiento migratorio / Tasa de inmigración\n",
      "intervenciones_policiales_con_detenidos\n"
     ]
    }
   ],
   "source": [
    "csv_name_list = ['extranjeros_distritos', 'poblacion_distritos', 'intervenciones_policiales_distritos']\n",
    "\n",
    "for csv_name in csv_name_list:\n",
    "    \n",
    "    district_data[csv_name] = pl.read_csv(fr'C:\\Users\\fscielzo\\Documents\\DataScience-GitHub\\EDA\\Madrid-Traffic-Accidents\\data\\{csv_name}.csv', \n",
    "                                            separator=';', ignore_errors=True)\n",
    "    district_data[csv_name] = district_data[csv_name].rename({'Distrito': 'distrito'})\n",
    "    district_data[csv_name] = district_data[csv_name].filter(~pl.col('distrito').is_in(['Ciudad de Madrid', 'Otras zonas']))\\\n",
    "                                                    .with_columns(pl.col('distrito').map_elements(lambda x: x.split('. ')[1]))\n",
    "    replace_dict = {x: find_most_similar_string(unidecode(x.lower().title()), candidates=distritos_geojson) for x in district_data[csv_name]['distrito'].drop_nulls().unique().to_list()}\n",
    "    district_data[csv_name] = district_data[csv_name].with_columns(pl.col('distrito').replace(replace_dict).alias('distrito'))\n",
    "\n",
    "    if csv_name == 'poblacion_distritos':\n",
    "        district_data[csv_name] = district_data[csv_name].select(pl.exclude('fecha recopilacion'))\n",
    "    elif csv_name == 'intervenciones_policiales_distritos':\n",
    "        district_data[csv_name] = district_data[csv_name].select(pl.exclude('Año'))\n",
    "        district_data[csv_name] = district_data[csv_name].with_columns(pl.col('Intervenciones_Policiales_con_Detenidos').cast(str).str.strip_chars('.0'))\n",
    "        district_data[csv_name] = district_data[csv_name].rename({'Intervenciones_Policiales_con_Detenidos': 'intervenciones_policiales_con_detenidos'})\n",
    "    elif csv_name == 'extranjeros_distritos':\n",
    "        district_data[csv_name] = district_data[csv_name]\\\n",
    "            .rename({'Total': 'poblacion', 'España': 'poblacion_española', \n",
    "                     'Otro país': 'poblacion_extranjera', '% de extranjeros': 'perc_poblacion_extranjera'})\n",
    "        district_data[csv_name] = district_data[csv_name].with_columns(pl.col('poblacion_extranjera').cast(str))\n",
    "    \n",
    "    columns_to_modify_type = [x for x in district_data[csv_name].columns if x != 'distrito'] \n",
    "    for col in columns_to_modify_type:\n",
    "        print(col)\n",
    "        district_data[csv_name] = district_data[csv_name].with_columns(pl.col(col)\\\n",
    "                                                         .map_elements(lambda x: reformat_str_number(x))\\\n",
    "                                                         .cast(pl.Float64).round(2))    \n"
   ]
  },
  {
   "cell_type": "markdown",
   "metadata": {},
   "source": [
    "---"
   ]
  },
  {
   "cell_type": "markdown",
   "metadata": {},
   "source": [
    "## **Saving the data**"
   ]
  },
  {
   "cell_type": "code",
   "execution_count": 459,
   "metadata": {},
   "outputs": [],
   "source": [
    "madrid_traffic_acc_df.write_csv(fr'C:\\Users\\fscielzo\\Documents\\DataScience-GitHub\\EDA\\Madrid-Traffic-Accidents\\data\\madrid_traffic_accidents.csv')"
   ]
  },
  {
   "cell_type": "code",
   "execution_count": 42,
   "metadata": {},
   "outputs": [],
   "source": [
    "with open(r'C:\\Users\\fscielzo\\Documents\\Streamlit-Apps\\Madrid-Traffic-Accidents\\data\\district_data.pickle', 'wb') as file:\n",
    "    pickle.dump(district_data, file)"
   ]
  }
 ],
 "metadata": {
  "kernelspec": {
   "display_name": "base",
   "language": "python",
   "name": "python3"
  },
  "language_info": {
   "codemirror_mode": {
    "name": "ipython",
    "version": 3
   },
   "file_extension": ".py",
   "mimetype": "text/x-python",
   "name": "python",
   "nbconvert_exporter": "python",
   "pygments_lexer": "ipython3",
   "version": "3.11.5"
  }
 },
 "nbformat": 4,
 "nbformat_minor": 2
}
