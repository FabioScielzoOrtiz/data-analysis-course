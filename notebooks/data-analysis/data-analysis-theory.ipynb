{
 "cells": [
  {
   "cell_type": "markdown",
   "metadata": {},
   "source": [
    "# **Data Analysis Theory**"
   ]
  },
  {
   "cell_type": "markdown",
   "metadata": {},
   "source": [
    "## Statistical variable\n",
    "\n",
    "A statistical variable is a vector with data about a random variable, that have been extract from a sample of individuals, also called elements.\n",
    "\n",
    "Given a random variable $\\mathcal{X}_k$, any vector $X_k \\in\\mathbb{R}^n$ is a statistical variable of $\\mathcal{X}_k$ for a sample of $n$ individuals or elements:\n",
    "\n",
    "$$X_k = \\begin{pmatrix}\n",
    "x_{1k} \\\\\n",
    "x_{2k}\\\\\n",
    "... \\\\\n",
    "x_{nk} \n",
    "\\end{pmatrix} = (x_{1k},\\dots , x_{nk})^{\\prime}\\in \\mathbb{R}^n$$\n",
    "\n"
   ]
  },
  {
   "cell_type": "markdown",
   "metadata": {},
   "source": [
    "## Domain of a statistical variable\n",
    "\n",
    "The domain of a statistical variable $\\hspace{0.01cm}X_k\\hspace{0.01cm}$ is denoted by $\\hspace{0.01cm}D(X_k)\\hspace{0.01cm}$, and is defined as the set of *possible* values of $\\hspace{0.05cm}X_k$. $\\\\[0.4cm]$"
   ]
  },
  {
   "cell_type": "markdown",
   "metadata": {},
   "source": [
    "##  Unique values of a statistical variable \n",
    "\n",
    "The unique values of an statistical variable $X_k$ is denoted by $U(X_k)$ an is defined as the values taken by the variable, without repetitions. \n",
    "\n",
    "\n",
    "**Observation:**\n",
    "\n",
    "- $U(X_k) \\subseteq D(X_k)$"
   ]
  },
  {
   "cell_type": "markdown",
   "metadata": {},
   "source": [
    "##  Statistical variable types: quantitative and categorical \n",
    "\n",
    "- $X_k$ is **quantitative** if the elements of its range are\n",
    "conceptually numbers. \n",
    "\n",
    "- $X_k$ is **categorical** if the elements of its range are labels or categories (they can be numbers at a symbolic level but not at a conceptual one). $\\\\[0.4cm]$\n",
    "\n"
   ]
  },
  {
   "cell_type": "markdown",
   "metadata": {},
   "source": [
    "\n",
    "\n",
    "###  Quantitative variable types: continuous and discrete \n",
    "\n",
    "We can distinguish at least two types of quantitative variables: **continuous** and **discrete**.\n",
    "\n",
    "\n",
    "- $X_k\\hspace{0.05cm}$ is **continuous** if it's range, $\\hspace{0.05cm}Rg(X_k)\\hspace{0.05cm}$, is a not countable set. So, we cannot count the number of possible elements that it can take. $\\\\[0.5cm]$\n",
    " \n",
    "- $X_k\\hspace{0.05cm}$ is **discrete** if it's range, $\\hspace{0.05cm}Rg(X_k)\\hspace{0.05cm}$, is countable set. So, we can count the number of possible elements that it can take.$\\\\[0.2cm]$\n",
    " \n",
    "\n",
    "**Observation:**\n",
    "\n",
    "In particular, variables whose  **range** is a **finite** set\n",
    "will be **discrete**, and the ones whose  **range** is not a **finite** set\n",
    "will be **continuous**. $\\\\[0.1cm]$\n",
    "\n"
   ]
  },
  {
   "cell_type": "markdown",
   "metadata": {},
   "source": [
    "\n",
    "\n",
    "###  Categorical variable types: $h$-ary   \n",
    "\n",
    "Let  $X_k$ a **categorical** variable ,\n",
    "\n",
    "- $X_k$ is **$h$-ary** if it´s range has **$h$** elements that are categories or labels.\n",
    "\n",
    "\n",
    "In Statistics **binary** (2-ary) categorical variables are particularly important.\n",
    " \n"
   ]
  },
  {
   "cell_type": "markdown",
   "metadata": {},
   "source": [
    "\n",
    "###  Categorical variable types: nominal and ordinal \n",
    "\n",
    "Let  $X_k$ a $h$-ary **categorical** variable.\n",
    "\n",
    "- $X_k$ is **nominal** if **there is no order** between the $h$ categories of it's range. $\\\\[0.4cm]$\n",
    "\n",
    "- $X_k$ is **ordinal** if **there is an order** between the $h$ categories of it's range. $\\\\[0.4cm]$\n",
    "\n",
    " \n"
   ]
  },
  {
   "cell_type": "markdown",
   "metadata": {},
   "source": [
    "##  Data matrix \n",
    "Given $p$  statistical variables $X_1,   \\dots X_p$ associated to the random variables $\\mathcal{X}_1,   \\dots \\mathcal{X}_p$ , where $X_k = (x_{1k},...,x_{nk})^\\prime$  for each $k = 1,\\dots ,p$.\n",
    "\n",
    "\n",
    "\n",
    "Any $p \\times n$ matrix $\\mathbf{X}$ can be a data matrix for the random variables $\\hspace{0.02cm}\\mathcal{X}_1,...,\\mathcal{X}_p\\hspace{0.02cm}$ based on a sample of $n$ individuals : $\\\\[0.35cm]$\n",
    "\n",
    "$$\n",
    "\\mathbf{X} \\hspace{0.05cm}=\\hspace{0.05cm} \\left( X_1 , X_2,\\dots , X_p  \\right) \\hspace{0.05cm}=\\hspace{0.05cm} \\begin{pmatrix}\n",
    "\\mathbf{x}_{1}^{\\prime} \\\\\n",
    "\\mathbf{x}_{2}^{\\prime} \\\\\n",
    "... \\\\\n",
    "\\mathbf{x}_{n}^{\\prime} \n",
    "\\end{pmatrix} \\hspace{0.05cm}=\\hspace{0.05cm} \\begin{pmatrix}\n",
    "x_{11} &...&x_{1p}\\\\\n",
    "x_{21} &...&x_{2p}\\\\\n",
    "...&...&...\\\\\n",
    "x_{n1}&...&x_{np}\n",
    "\\end{pmatrix} \\\\\n",
    "$$\n",
    "\n",
    "where:\n",
    "\n",
    "$\\mathbf{x}_i^{\\prime} = \\left( x_{i1}, x_{i2}, \\dots , x_{ip} \\right)\\in \\mathbb{R}^p$ is the vector with the values of the $p$ random variables $\\mathcal{X}_1,\\dots ,\\mathcal{X}_p$ for the $i$-th  individual, or element, of the sample, for $i = 1,\\dots ,n$. $\\\\[0.4cm]$\n",
    "\n",
    "\n",
    "**Observations:**\n",
    "\n",
    "$X$ is a matrix with $p$ columns and $n$ rows, so, is a matrix of size $p \\times n$. $\\\\[0.4cm]$\n"
   ]
  },
  {
   "cell_type": "markdown",
   "metadata": {},
   "source": []
  },
  {
   "cell_type": "markdown",
   "metadata": {},
   "source": []
  },
  {
   "cell_type": "markdown",
   "metadata": {},
   "source": []
  }
 ],
 "metadata": {
  "language_info": {
   "name": "python"
  }
 },
 "nbformat": 4,
 "nbformat_minor": 2
}
